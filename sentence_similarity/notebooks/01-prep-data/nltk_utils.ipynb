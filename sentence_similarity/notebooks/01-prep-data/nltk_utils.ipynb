{
 "cells": [
  {
   "cell_type": "markdown",
   "metadata": {},
   "source": [
    "# NLTK Utils\n",
    "\n",
    "This notebook shows you how to use different nltk utils. This notebook shows how to tokenize nad remove stop words using nltk for given SNLI Corpus.\n",
    "\n",
    "## 00 Global Settings"
   ]
  },
  {
   "cell_type": "code",
   "execution_count": null,
   "metadata": {
    "scrolled": true
   },
   "outputs": [],
   "source": [
    "import sys\n",
    "sys.path.append(\"../../../\")\n",
    "\n",
    "from utils_nlp.dataset import preprocess\n",
    "from utils_nlp.dataset import snli\n",
    "\n",
    "print(\"System version: {}\".format(sys.version))"
   ]
  },
  {
   "cell_type": "code",
   "execution_count": null,
   "metadata": {},
   "outputs": [],
   "source": [
    "DATA_DIR_PATH  = '../../../data'\n",
    "SRC_FILE_PATH  = '../../../data/raw/snli_1.0_dev.txt'\n",
    "DEST_FILE_PATH = '../../../data/clean/snli_1.0_clean_dev.txt'"
   ]
  },
  {
   "cell_type": "markdown",
   "metadata": {},
   "source": [
    "## 01 Tokenizer\n",
    "\n",
    "To use nltk tokenizer, we first load the dataset and convert it to a pandas dataframe. <br>\n",
    "load_pandas_df(args) will download, extract the file passed as argument and load it into a df. "
   ]
  },
  {
   "cell_type": "code",
   "execution_count": null,
   "metadata": {},
   "outputs": [],
   "source": [
    "# defaults to txt\n",
    "df = snli.load_pandas_df(DATA_DIR_PATH, 'dev')"
   ]
  },
  {
   "cell_type": "markdown",
   "metadata": {},
   "source": [
    "Glimpse of the data"
   ]
  },
  {
   "cell_type": "code",
   "execution_count": null,
   "metadata": {
    "scrolled": true
   },
   "outputs": [],
   "source": [
    "df.head(5)"
   ]
  },
  {
   "cell_type": "markdown",
   "metadata": {},
   "source": [
    "Clean the data before tokenizing. Drop unneccessary columns and rename columns as [score, sentence_1, sentence_2]"
   ]
  },
  {
   "cell_type": "code",
   "execution_count": null,
   "metadata": {},
   "outputs": [],
   "source": [
    "transformed_df = snli.clean_snli(SRC_FILE_PATH, DEST_FILE_PATH)"
   ]
  },
  {
   "cell_type": "markdown",
   "metadata": {},
   "source": [
    "Once we have a clean pandas dataframe, call the nltk tokenizer which will add two new columns [sentence1_tokens, sentence2_tokens]"
   ]
  },
  {
   "cell_type": "code",
   "execution_count": null,
   "metadata": {},
   "outputs": [],
   "source": [
    "tokenized_df = preprocess.nltk_tokenizer(transformed_df)"
   ]
  },
  {
   "cell_type": "markdown",
   "metadata": {},
   "source": [
    "See top 5 entries in the dataframe after applying tokenizer"
   ]
  },
  {
   "cell_type": "code",
   "execution_count": null,
   "metadata": {},
   "outputs": [],
   "source": [
    "tokenized_df.head(5)"
   ]
  },
  {
   "cell_type": "markdown",
   "metadata": {},
   "source": [
    "## 02 Stopword removal\n",
    "\n",
    "If the sentence is not tokenized then nltk_remove_stop_words() will first tokenize the sentence and then remove stop words.\n",
    "<br>\n",
    "It will add two new columns [sentence1_tokens_stop, sentence2_tokens_stop]\n"
   ]
  },
  {
   "cell_type": "code",
   "execution_count": null,
   "metadata": {},
   "outputs": [],
   "source": [
    "rm_stop_words_df = preprocess.nltk_remove_stop_words(tokenized_df)"
   ]
  },
  {
   "cell_type": "markdown",
   "metadata": {},
   "source": [
    "See top 5 entries in the dataframe after removing stop words"
   ]
  },
  {
   "cell_type": "code",
   "execution_count": null,
   "metadata": {},
   "outputs": [],
   "source": [
    "rm_stop_words_df.head(5)"
   ]
  },
  {
   "cell_type": "code",
   "execution_count": null,
   "metadata": {},
   "outputs": [],
   "source": []
  }
 ],
 "metadata": {
  "kernelspec": {
   "display_name": "Python 3",
   "language": "python",
   "name": "python3"
  },
  "language_info": {
   "codemirror_mode": {
    "name": "ipython",
    "version": 3
   },
   "file_extension": ".py",
   "mimetype": "text/x-python",
   "name": "python",
   "nbconvert_exporter": "python",
   "pygments_lexer": "ipython3",
   "version": "3.6.8"
  }
 },
 "nbformat": 4,
 "nbformat_minor": 2
}
