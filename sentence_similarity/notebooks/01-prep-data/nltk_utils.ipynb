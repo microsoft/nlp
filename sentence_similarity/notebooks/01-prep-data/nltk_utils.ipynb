{
 "cells": [
  {
   "cell_type": "markdown",
   "metadata": {},
   "source": [
    "# NLTK Utils\n",
    "\n",
    "This notebook shows you how to use different nltk utils. This notebook shows how to tokenize for given SNLI Corpus.\n",
    "\n",
    "## 0 Global Settings"
   ]
  },
  {
   "cell_type": "code",
   "execution_count": 8,
   "metadata": {
    "scrolled": true
   },
   "outputs": [
    {
     "name": "stdout",
     "output_type": "stream",
     "text": [
      "System version: 3.6.8 |Anaconda, Inc.| (default, Feb 21 2019, 18:30:04) [MSC v.1916 64 bit (AMD64)]\n"
     ]
    }
   ],
   "source": [
    "import sys\n",
    "sys.path.append(\"../../\")\n",
    "\n",
    "from utils_nlp.nltk import nltk_utils\n",
    "from utils_nlp.dataset import snli\n",
    "\n",
    "print(\"System version: {}\".format(sys.version))"
   ]
  },
  {
   "cell_type": "code",
   "execution_count": 2,
   "metadata": {},
   "outputs": [],
   "source": [
    "DATA_DIR_PATH = '../../data'"
   ]
  },
  {
   "cell_type": "markdown",
   "metadata": {},
   "source": [
    "## 1 Tokenizer\n",
    "\n",
    "To use nltk tokenizer, we first load the dataset and convert it to a pandas dataframe. <br>\n",
    "load_pandas_df(args) will download, extract the file passed as argument and load it into a df. "
   ]
  },
  {
   "cell_type": "code",
   "execution_count": 3,
   "metadata": {},
   "outputs": [],
   "source": [
    "# defaults to txt\n",
    "df = snli.load_pandas_df(DATA_DIR_PATH, 'dev')"
   ]
  },
  {
   "cell_type": "markdown",
   "metadata": {},
   "source": [
    "glimpse of the data"
   ]
  },
  {
   "cell_type": "code",
   "execution_count": 4,
   "metadata": {},
   "outputs": [
    {
     "data": {
      "text/html": [
       "<div>\n",
       "<style scoped>\n",
       "    .dataframe tbody tr th:only-of-type {\n",
       "        vertical-align: middle;\n",
       "    }\n",
       "\n",
       "    .dataframe tbody tr th {\n",
       "        vertical-align: top;\n",
       "    }\n",
       "\n",
       "    .dataframe thead th {\n",
       "        text-align: right;\n",
       "    }\n",
       "</style>\n",
       "<table border=\"1\" class=\"dataframe\">\n",
       "  <thead>\n",
       "    <tr style=\"text-align: right;\">\n",
       "      <th></th>\n",
       "      <th>gold_label</th>\n",
       "      <th>sentence1_binary_parse</th>\n",
       "      <th>sentence2_binary_parse</th>\n",
       "      <th>sentence1_parse</th>\n",
       "      <th>sentence2_parse</th>\n",
       "      <th>sentence1</th>\n",
       "      <th>sentence2</th>\n",
       "      <th>captionID</th>\n",
       "      <th>pairID</th>\n",
       "      <th>label1</th>\n",
       "      <th>label2</th>\n",
       "      <th>label3</th>\n",
       "      <th>label4</th>\n",
       "      <th>label5</th>\n",
       "    </tr>\n",
       "  </thead>\n",
       "  <tbody>\n",
       "    <tr>\n",
       "      <th>0</th>\n",
       "      <td>neutral</td>\n",
       "      <td>( ( Two women ) ( ( are ( embracing ( while ( ...</td>\n",
       "      <td>( ( The sisters ) ( ( are ( ( hugging goodbye ...</td>\n",
       "      <td>(ROOT (S (NP (CD Two) (NNS women)) (VP (VBP ar...</td>\n",
       "      <td>(ROOT (S (NP (DT The) (NNS sisters)) (VP (VBP ...</td>\n",
       "      <td>Two women are embracing while holding to go pa...</td>\n",
       "      <td>The sisters are hugging goodbye while holding ...</td>\n",
       "      <td>4705552913.jpg#2</td>\n",
       "      <td>4705552913.jpg#2r1n</td>\n",
       "      <td>neutral</td>\n",
       "      <td>entailment</td>\n",
       "      <td>neutral</td>\n",
       "      <td>neutral</td>\n",
       "      <td>neutral</td>\n",
       "    </tr>\n",
       "    <tr>\n",
       "      <th>1</th>\n",
       "      <td>entailment</td>\n",
       "      <td>( ( Two women ) ( ( are ( embracing ( while ( ...</td>\n",
       "      <td>( ( Two woman ) ( ( are ( holding packages ) )...</td>\n",
       "      <td>(ROOT (S (NP (CD Two) (NNS women)) (VP (VBP ar...</td>\n",
       "      <td>(ROOT (S (NP (CD Two) (NN woman)) (VP (VBP are...</td>\n",
       "      <td>Two women are embracing while holding to go pa...</td>\n",
       "      <td>Two woman are holding packages.</td>\n",
       "      <td>4705552913.jpg#2</td>\n",
       "      <td>4705552913.jpg#2r1e</td>\n",
       "      <td>entailment</td>\n",
       "      <td>entailment</td>\n",
       "      <td>entailment</td>\n",
       "      <td>entailment</td>\n",
       "      <td>entailment</td>\n",
       "    </tr>\n",
       "    <tr>\n",
       "      <th>2</th>\n",
       "      <td>contradiction</td>\n",
       "      <td>( ( Two women ) ( ( are ( embracing ( while ( ...</td>\n",
       "      <td>( ( The men ) ( ( are ( fighting ( outside ( a...</td>\n",
       "      <td>(ROOT (S (NP (CD Two) (NNS women)) (VP (VBP ar...</td>\n",
       "      <td>(ROOT (S (NP (DT The) (NNS men)) (VP (VBP are)...</td>\n",
       "      <td>Two women are embracing while holding to go pa...</td>\n",
       "      <td>The men are fighting outside a deli.</td>\n",
       "      <td>4705552913.jpg#2</td>\n",
       "      <td>4705552913.jpg#2r1c</td>\n",
       "      <td>contradiction</td>\n",
       "      <td>contradiction</td>\n",
       "      <td>contradiction</td>\n",
       "      <td>contradiction</td>\n",
       "      <td>contradiction</td>\n",
       "    </tr>\n",
       "    <tr>\n",
       "      <th>3</th>\n",
       "      <td>entailment</td>\n",
       "      <td>( ( ( Two ( young children ) ) ( in ( ( ( ( ( ...</td>\n",
       "      <td>( ( ( Two kids ) ( in ( numbered jerseys ) ) )...</td>\n",
       "      <td>(ROOT (S (NP (NP (CD Two) (JJ young) (NNS chil...</td>\n",
       "      <td>(ROOT (S (NP (NP (CD Two) (NNS kids)) (PP (IN ...</td>\n",
       "      <td>Two young children in blue jerseys, one with t...</td>\n",
       "      <td>Two kids in numbered jerseys wash their hands.</td>\n",
       "      <td>2407214681.jpg#0</td>\n",
       "      <td>2407214681.jpg#0r1e</td>\n",
       "      <td>entailment</td>\n",
       "      <td>entailment</td>\n",
       "      <td>entailment</td>\n",
       "      <td>entailment</td>\n",
       "      <td>entailment</td>\n",
       "    </tr>\n",
       "    <tr>\n",
       "      <th>4</th>\n",
       "      <td>neutral</td>\n",
       "      <td>( ( ( Two ( young children ) ) ( in ( ( ( ( ( ...</td>\n",
       "      <td>( ( ( Two kids ) ( at ( a ballgame ) ) ) ( ( w...</td>\n",
       "      <td>(ROOT (S (NP (NP (CD Two) (JJ young) (NNS chil...</td>\n",
       "      <td>(ROOT (S (NP (NP (CD Two) (NNS kids)) (PP (IN ...</td>\n",
       "      <td>Two young children in blue jerseys, one with t...</td>\n",
       "      <td>Two kids at a ballgame wash their hands.</td>\n",
       "      <td>2407214681.jpg#0</td>\n",
       "      <td>2407214681.jpg#0r1n</td>\n",
       "      <td>neutral</td>\n",
       "      <td>neutral</td>\n",
       "      <td>neutral</td>\n",
       "      <td>entailment</td>\n",
       "      <td>entailment</td>\n",
       "    </tr>\n",
       "  </tbody>\n",
       "</table>\n",
       "</div>"
      ],
      "text/plain": [
       "      gold_label                             sentence1_binary_parse  \\\n",
       "0        neutral  ( ( Two women ) ( ( are ( embracing ( while ( ...   \n",
       "1     entailment  ( ( Two women ) ( ( are ( embracing ( while ( ...   \n",
       "2  contradiction  ( ( Two women ) ( ( are ( embracing ( while ( ...   \n",
       "3     entailment  ( ( ( Two ( young children ) ) ( in ( ( ( ( ( ...   \n",
       "4        neutral  ( ( ( Two ( young children ) ) ( in ( ( ( ( ( ...   \n",
       "\n",
       "                              sentence2_binary_parse  \\\n",
       "0  ( ( The sisters ) ( ( are ( ( hugging goodbye ...   \n",
       "1  ( ( Two woman ) ( ( are ( holding packages ) )...   \n",
       "2  ( ( The men ) ( ( are ( fighting ( outside ( a...   \n",
       "3  ( ( ( Two kids ) ( in ( numbered jerseys ) ) )...   \n",
       "4  ( ( ( Two kids ) ( at ( a ballgame ) ) ) ( ( w...   \n",
       "\n",
       "                                     sentence1_parse  \\\n",
       "0  (ROOT (S (NP (CD Two) (NNS women)) (VP (VBP ar...   \n",
       "1  (ROOT (S (NP (CD Two) (NNS women)) (VP (VBP ar...   \n",
       "2  (ROOT (S (NP (CD Two) (NNS women)) (VP (VBP ar...   \n",
       "3  (ROOT (S (NP (NP (CD Two) (JJ young) (NNS chil...   \n",
       "4  (ROOT (S (NP (NP (CD Two) (JJ young) (NNS chil...   \n",
       "\n",
       "                                     sentence2_parse  \\\n",
       "0  (ROOT (S (NP (DT The) (NNS sisters)) (VP (VBP ...   \n",
       "1  (ROOT (S (NP (CD Two) (NN woman)) (VP (VBP are...   \n",
       "2  (ROOT (S (NP (DT The) (NNS men)) (VP (VBP are)...   \n",
       "3  (ROOT (S (NP (NP (CD Two) (NNS kids)) (PP (IN ...   \n",
       "4  (ROOT (S (NP (NP (CD Two) (NNS kids)) (PP (IN ...   \n",
       "\n",
       "                                           sentence1  \\\n",
       "0  Two women are embracing while holding to go pa...   \n",
       "1  Two women are embracing while holding to go pa...   \n",
       "2  Two women are embracing while holding to go pa...   \n",
       "3  Two young children in blue jerseys, one with t...   \n",
       "4  Two young children in blue jerseys, one with t...   \n",
       "\n",
       "                                           sentence2         captionID  \\\n",
       "0  The sisters are hugging goodbye while holding ...  4705552913.jpg#2   \n",
       "1                    Two woman are holding packages.  4705552913.jpg#2   \n",
       "2               The men are fighting outside a deli.  4705552913.jpg#2   \n",
       "3     Two kids in numbered jerseys wash their hands.  2407214681.jpg#0   \n",
       "4           Two kids at a ballgame wash their hands.  2407214681.jpg#0   \n",
       "\n",
       "                pairID         label1         label2         label3  \\\n",
       "0  4705552913.jpg#2r1n        neutral     entailment        neutral   \n",
       "1  4705552913.jpg#2r1e     entailment     entailment     entailment   \n",
       "2  4705552913.jpg#2r1c  contradiction  contradiction  contradiction   \n",
       "3  2407214681.jpg#0r1e     entailment     entailment     entailment   \n",
       "4  2407214681.jpg#0r1n        neutral        neutral        neutral   \n",
       "\n",
       "          label4         label5  \n",
       "0        neutral        neutral  \n",
       "1     entailment     entailment  \n",
       "2  contradiction  contradiction  \n",
       "3     entailment     entailment  \n",
       "4     entailment     entailment  "
      ]
     },
     "execution_count": 4,
     "metadata": {},
     "output_type": "execute_result"
    }
   ],
   "source": [
    "df.head(5)"
   ]
  },
  {
   "cell_type": "markdown",
   "metadata": {},
   "source": [
    "Clean the data before tokenizing. Drop unneccessary columns and rename columns as [score, sentence_1, sentence_2]"
   ]
  },
  {
   "cell_type": "code",
   "execution_count": 5,
   "metadata": {},
   "outputs": [],
   "source": [
    "transformed_df = snli.clean_snli(df)"
   ]
  },
  {
   "cell_type": "markdown",
   "metadata": {},
   "source": [
    "Once we have a clean pandas dataframe, call the nltk tokenizer which will add two new columns [sentence1_tokens, sentence2_tokens]"
   ]
  },
  {
   "cell_type": "code",
   "execution_count": 6,
   "metadata": {},
   "outputs": [],
   "source": [
    "tokenized_df = nltk_utils.nltk_tokenizer(transformed_df)"
   ]
  },
  {
   "cell_type": "markdown",
   "metadata": {},
   "source": [
    "See top 5 entires in the dataframe after applying tokenizer"
   ]
  },
  {
   "cell_type": "code",
   "execution_count": 7,
   "metadata": {},
   "outputs": [
    {
     "data": {
      "text/html": [
       "<div>\n",
       "<style scoped>\n",
       "    .dataframe tbody tr th:only-of-type {\n",
       "        vertical-align: middle;\n",
       "    }\n",
       "\n",
       "    .dataframe tbody tr th {\n",
       "        vertical-align: top;\n",
       "    }\n",
       "\n",
       "    .dataframe thead th {\n",
       "        text-align: right;\n",
       "    }\n",
       "</style>\n",
       "<table border=\"1\" class=\"dataframe\">\n",
       "  <thead>\n",
       "    <tr style=\"text-align: right;\">\n",
       "      <th></th>\n",
       "      <th>score</th>\n",
       "      <th>sentence1</th>\n",
       "      <th>sentence2</th>\n",
       "      <th>sentence1_tokens</th>\n",
       "      <th>sentence2_tokens</th>\n",
       "    </tr>\n",
       "  </thead>\n",
       "  <tbody>\n",
       "    <tr>\n",
       "      <th>0</th>\n",
       "      <td>neutral</td>\n",
       "      <td>Two women are embracing while holding to go pa...</td>\n",
       "      <td>The sisters are hugging goodbye while holding ...</td>\n",
       "      <td>[Two, women, are, embracing, while, holding, t...</td>\n",
       "      <td>[The, sisters, are, hugging, goodbye, while, h...</td>\n",
       "    </tr>\n",
       "    <tr>\n",
       "      <th>1</th>\n",
       "      <td>entailment</td>\n",
       "      <td>Two women are embracing while holding to go pa...</td>\n",
       "      <td>Two woman are holding packages.</td>\n",
       "      <td>[Two, women, are, embracing, while, holding, t...</td>\n",
       "      <td>[Two, woman, are, holding, packages, .]</td>\n",
       "    </tr>\n",
       "    <tr>\n",
       "      <th>2</th>\n",
       "      <td>contradiction</td>\n",
       "      <td>Two women are embracing while holding to go pa...</td>\n",
       "      <td>The men are fighting outside a deli.</td>\n",
       "      <td>[Two, women, are, embracing, while, holding, t...</td>\n",
       "      <td>[The, men, are, fighting, outside, a, deli, .]</td>\n",
       "    </tr>\n",
       "    <tr>\n",
       "      <th>3</th>\n",
       "      <td>entailment</td>\n",
       "      <td>Two young children in blue jerseys, one with t...</td>\n",
       "      <td>Two kids in numbered jerseys wash their hands.</td>\n",
       "      <td>[Two, young, children, in, blue, jerseys, ,, o...</td>\n",
       "      <td>[Two, kids, in, numbered, jerseys, wash, their...</td>\n",
       "    </tr>\n",
       "    <tr>\n",
       "      <th>4</th>\n",
       "      <td>neutral</td>\n",
       "      <td>Two young children in blue jerseys, one with t...</td>\n",
       "      <td>Two kids at a ballgame wash their hands.</td>\n",
       "      <td>[Two, young, children, in, blue, jerseys, ,, o...</td>\n",
       "      <td>[Two, kids, at, a, ballgame, wash, their, hand...</td>\n",
       "    </tr>\n",
       "  </tbody>\n",
       "</table>\n",
       "</div>"
      ],
      "text/plain": [
       "           score                                          sentence1  \\\n",
       "0        neutral  Two women are embracing while holding to go pa...   \n",
       "1     entailment  Two women are embracing while holding to go pa...   \n",
       "2  contradiction  Two women are embracing while holding to go pa...   \n",
       "3     entailment  Two young children in blue jerseys, one with t...   \n",
       "4        neutral  Two young children in blue jerseys, one with t...   \n",
       "\n",
       "                                           sentence2  \\\n",
       "0  The sisters are hugging goodbye while holding ...   \n",
       "1                    Two woman are holding packages.   \n",
       "2               The men are fighting outside a deli.   \n",
       "3     Two kids in numbered jerseys wash their hands.   \n",
       "4           Two kids at a ballgame wash their hands.   \n",
       "\n",
       "                                    sentence1_tokens  \\\n",
       "0  [Two, women, are, embracing, while, holding, t...   \n",
       "1  [Two, women, are, embracing, while, holding, t...   \n",
       "2  [Two, women, are, embracing, while, holding, t...   \n",
       "3  [Two, young, children, in, blue, jerseys, ,, o...   \n",
       "4  [Two, young, children, in, blue, jerseys, ,, o...   \n",
       "\n",
       "                                    sentence2_tokens  \n",
       "0  [The, sisters, are, hugging, goodbye, while, h...  \n",
       "1            [Two, woman, are, holding, packages, .]  \n",
       "2     [The, men, are, fighting, outside, a, deli, .]  \n",
       "3  [Two, kids, in, numbered, jerseys, wash, their...  \n",
       "4  [Two, kids, at, a, ballgame, wash, their, hand...  "
      ]
     },
     "execution_count": 7,
     "metadata": {},
     "output_type": "execute_result"
    }
   ],
   "source": [
    "tokenized_df.head(5)"
   ]
  },
  {
   "cell_type": "code",
   "execution_count": null,
   "metadata": {},
   "outputs": [],
   "source": []
  }
 ],
 "metadata": {
  "kernelspec": {
   "display_name": "Python 3",
   "language": "python",
   "name": "python3"
  },
  "language_info": {
   "codemirror_mode": {
    "name": "ipython",
    "version": 3
   },
   "file_extension": ".py",
   "mimetype": "text/x-python",
   "name": "python",
   "nbconvert_exporter": "python",
   "pygments_lexer": "ipython3",
   "version": "3.6.8"
  }
 },
 "nbformat": 4,
 "nbformat_minor": 2
}
