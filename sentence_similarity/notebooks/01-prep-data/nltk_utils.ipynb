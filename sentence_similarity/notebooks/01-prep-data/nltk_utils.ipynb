{
 "cells": [
  {
   "cell_type": "markdown",
   "metadata": {},
   "source": [
    "## Data Preprocessing\n",
    "In this notebook we show how to apply common preprocessing steps (lowercase standardization and tokenization) to the  SNLI corpus. We also reshape the data into the form needed to implement [Gensen](https://github.com/Maluuba/gensen), a model that learns rich fixed-length sentence embeddings as described in the paper [here](https://openreview.net/forum?id=B18WgG-CZ&noteId=B18WgG-CZ)."
   ]
  },
  {
   "cell_type": "markdown",
   "metadata": {},
   "source": [
    "### 00 Global Settings"
   ]
  },
  {
   "cell_type": "code",
   "execution_count": 4,
   "metadata": {
    "scrolled": true
   },
   "outputs": [
    {
     "name": "stdout",
     "output_type": "stream",
     "text": [
      "System version: 3.6.8 |Anaconda, Inc.| (default, Dec 29 2018, 19:04:46) \n",
      "[GCC 4.2.1 Compatible Clang 4.0.1 (tags/RELEASE_401/final)]\n"
     ]
    }
   ],
   "source": [
    "import sys\n",
    "sys.path.append(\"../../../\")\n",
    "\n",
    "from utils_nlp.dataset.preprocess import to_lowercase\n",
    "from utils_nlp.dataset import snli\n",
    "\n",
    "print(\"System version: {}\".format(sys.version))"
   ]
  },
  {
   "cell_type": "code",
   "execution_count": 5,
   "metadata": {},
   "outputs": [],
   "source": [
    "DATA_DIR_PATH  = '../../../data'\n",
    "# SRC_FILE_PATH  = '../../../data/raw/snli_1.0_dev.txt'\n",
    "# DEST_FILE_PATH = '../../../data/clean/snli_1.0_clean_dev.txt'"
   ]
  },
  {
   "cell_type": "markdown",
   "metadata": {},
   "source": [
    "### 01 Tokenize\n",
    "\n",
    "We first load the dataset and convert it to a pandas dataframe. "
   ]
  },
  {
   "cell_type": "code",
   "execution_count": 7,
   "metadata": {},
   "outputs": [],
   "source": [
    "# Download and extract data as txt files\n",
    "train = snli.load_pandas_df(DATA_DIR_PATH, file_split='train')\n",
    "dev = snli.load_pandas_df(DATA_DIR_PATH, file_split='dev')\n",
    "test = snli.load_pandas_df(DATA_DIR_PATH, file_split='test')"
   ]
  },
  {
   "cell_type": "markdown",
   "metadata": {},
   "source": [
    "We also clean the data before tokenizing. This includes dropping unneccessary columns and renaming the relevant columns as [score, sentence_1, sentence_2]."
   ]
  },
  {
   "cell_type": "code",
   "execution_count": null,
   "metadata": {},
   "outputs": [],
   "source": [
    "def clean(df):\n",
    "    src_file_path = os.path.join(DATA_DIR_PATH, \"snli_1.0_{}.txt\".format(file_split))\n",
    "    dest_file_path = os.path.join()"
   ]
  },
  {
   "cell_type": "code",
   "execution_count": 5,
   "metadata": {},
   "outputs": [],
   "source": [
    "transformed_df = snli.clean_snli(SRC_FILE_PATH, DEST_FILE_PATH)"
   ]
  },
  {
   "cell_type": "markdown",
   "metadata": {},
   "source": [
    "Once we have a clean pandas dataframe, call the nltk tokenizer which will add two new columns [sentence1_tokens, sentence2_tokens]"
   ]
  },
  {
   "cell_type": "code",
   "execution_count": 6,
   "metadata": {},
   "outputs": [],
   "source": [
    "tokenized_df = preprocess.nltk_tokenizer(transformed_df)"
   ]
  },
  {
   "cell_type": "markdown",
   "metadata": {},
   "source": [
    "See top 5 entries in the dataframe after applying tokenizer"
   ]
  },
  {
   "cell_type": "code",
   "execution_count": 7,
   "metadata": {},
   "outputs": [
    {
     "data": {
      "text/html": [
       "<div>\n",
       "<style scoped>\n",
       "    .dataframe tbody tr th:only-of-type {\n",
       "        vertical-align: middle;\n",
       "    }\n",
       "\n",
       "    .dataframe tbody tr th {\n",
       "        vertical-align: top;\n",
       "    }\n",
       "\n",
       "    .dataframe thead th {\n",
       "        text-align: right;\n",
       "    }\n",
       "</style>\n",
       "<table border=\"1\" class=\"dataframe\">\n",
       "  <thead>\n",
       "    <tr style=\"text-align: right;\">\n",
       "      <th></th>\n",
       "      <th>score</th>\n",
       "      <th>sentence1</th>\n",
       "      <th>sentence2</th>\n",
       "      <th>sentence1_tokens</th>\n",
       "      <th>sentence2_tokens</th>\n",
       "    </tr>\n",
       "  </thead>\n",
       "  <tbody>\n",
       "    <tr>\n",
       "      <th>0</th>\n",
       "      <td>neutral</td>\n",
       "      <td>Two women are embracing while holding to go pa...</td>\n",
       "      <td>The sisters are hugging goodbye while holding ...</td>\n",
       "      <td>[Two, women, are, embracing, while, holding, t...</td>\n",
       "      <td>[The, sisters, are, hugging, goodbye, while, h...</td>\n",
       "    </tr>\n",
       "    <tr>\n",
       "      <th>1</th>\n",
       "      <td>entailment</td>\n",
       "      <td>Two women are embracing while holding to go pa...</td>\n",
       "      <td>Two woman are holding packages.</td>\n",
       "      <td>[Two, women, are, embracing, while, holding, t...</td>\n",
       "      <td>[Two, woman, are, holding, packages, .]</td>\n",
       "    </tr>\n",
       "    <tr>\n",
       "      <th>2</th>\n",
       "      <td>contradiction</td>\n",
       "      <td>Two women are embracing while holding to go pa...</td>\n",
       "      <td>The men are fighting outside a deli.</td>\n",
       "      <td>[Two, women, are, embracing, while, holding, t...</td>\n",
       "      <td>[The, men, are, fighting, outside, a, deli, .]</td>\n",
       "    </tr>\n",
       "    <tr>\n",
       "      <th>3</th>\n",
       "      <td>entailment</td>\n",
       "      <td>Two young children in blue jerseys, one with t...</td>\n",
       "      <td>Two kids in numbered jerseys wash their hands.</td>\n",
       "      <td>[Two, young, children, in, blue, jerseys, ,, o...</td>\n",
       "      <td>[Two, kids, in, numbered, jerseys, wash, their...</td>\n",
       "    </tr>\n",
       "    <tr>\n",
       "      <th>4</th>\n",
       "      <td>neutral</td>\n",
       "      <td>Two young children in blue jerseys, one with t...</td>\n",
       "      <td>Two kids at a ballgame wash their hands.</td>\n",
       "      <td>[Two, young, children, in, blue, jerseys, ,, o...</td>\n",
       "      <td>[Two, kids, at, a, ballgame, wash, their, hand...</td>\n",
       "    </tr>\n",
       "  </tbody>\n",
       "</table>\n",
       "</div>"
      ],
      "text/plain": [
       "           score                                          sentence1  \\\n",
       "0        neutral  Two women are embracing while holding to go pa...   \n",
       "1     entailment  Two women are embracing while holding to go pa...   \n",
       "2  contradiction  Two women are embracing while holding to go pa...   \n",
       "3     entailment  Two young children in blue jerseys, one with t...   \n",
       "4        neutral  Two young children in blue jerseys, one with t...   \n",
       "\n",
       "                                           sentence2  \\\n",
       "0  The sisters are hugging goodbye while holding ...   \n",
       "1                    Two woman are holding packages.   \n",
       "2               The men are fighting outside a deli.   \n",
       "3     Two kids in numbered jerseys wash their hands.   \n",
       "4           Two kids at a ballgame wash their hands.   \n",
       "\n",
       "                                    sentence1_tokens  \\\n",
       "0  [Two, women, are, embracing, while, holding, t...   \n",
       "1  [Two, women, are, embracing, while, holding, t...   \n",
       "2  [Two, women, are, embracing, while, holding, t...   \n",
       "3  [Two, young, children, in, blue, jerseys, ,, o...   \n",
       "4  [Two, young, children, in, blue, jerseys, ,, o...   \n",
       "\n",
       "                                    sentence2_tokens  \n",
       "0  [The, sisters, are, hugging, goodbye, while, h...  \n",
       "1            [Two, woman, are, holding, packages, .]  \n",
       "2     [The, men, are, fighting, outside, a, deli, .]  \n",
       "3  [Two, kids, in, numbered, jerseys, wash, their...  \n",
       "4  [Two, kids, at, a, ballgame, wash, their, hand...  "
      ]
     },
     "execution_count": 7,
     "metadata": {},
     "output_type": "execute_result"
    }
   ],
   "source": [
    "tokenized_df.head(5)"
   ]
  },
  {
   "cell_type": "markdown",
   "metadata": {},
   "source": [
    "## 02 Stopword removal\n",
    "\n",
    "If the sentence is not tokenized then nltk_remove_stop_words() will first tokenize the sentence and then remove stop words.\n",
    "<br>\n",
    "It will add two new columns [sentence1_tokens_stop, sentence2_tokens_stop]\n"
   ]
  },
  {
   "cell_type": "code",
   "execution_count": 8,
   "metadata": {},
   "outputs": [],
   "source": [
    "rm_stop_words_df = preprocess.nltk_remove_stop_words(tokenized_df)"
   ]
  },
  {
   "cell_type": "markdown",
   "metadata": {},
   "source": [
    "See top 5 entries in the dataframe after removing stop words"
   ]
  },
  {
   "cell_type": "code",
   "execution_count": 9,
   "metadata": {},
   "outputs": [
    {
     "data": {
      "text/html": [
       "<div>\n",
       "<style scoped>\n",
       "    .dataframe tbody tr th:only-of-type {\n",
       "        vertical-align: middle;\n",
       "    }\n",
       "\n",
       "    .dataframe tbody tr th {\n",
       "        vertical-align: top;\n",
       "    }\n",
       "\n",
       "    .dataframe thead th {\n",
       "        text-align: right;\n",
       "    }\n",
       "</style>\n",
       "<table border=\"1\" class=\"dataframe\">\n",
       "  <thead>\n",
       "    <tr style=\"text-align: right;\">\n",
       "      <th></th>\n",
       "      <th>score</th>\n",
       "      <th>sentence1</th>\n",
       "      <th>sentence2</th>\n",
       "      <th>sentence1_tokens</th>\n",
       "      <th>sentence2_tokens</th>\n",
       "      <th>sentence1_tokens_stop</th>\n",
       "      <th>sentence2_tokens_stop</th>\n",
       "    </tr>\n",
       "  </thead>\n",
       "  <tbody>\n",
       "    <tr>\n",
       "      <th>0</th>\n",
       "      <td>neutral</td>\n",
       "      <td>Two women are embracing while holding to go pa...</td>\n",
       "      <td>The sisters are hugging goodbye while holding ...</td>\n",
       "      <td>[Two, women, are, embracing, while, holding, t...</td>\n",
       "      <td>[The, sisters, are, hugging, goodbye, while, h...</td>\n",
       "      <td>[Two, women, embracing, holding, go, packages, .]</td>\n",
       "      <td>[The, sisters, hugging, goodbye, holding, go, ...</td>\n",
       "    </tr>\n",
       "    <tr>\n",
       "      <th>1</th>\n",
       "      <td>entailment</td>\n",
       "      <td>Two women are embracing while holding to go pa...</td>\n",
       "      <td>Two woman are holding packages.</td>\n",
       "      <td>[Two, women, are, embracing, while, holding, t...</td>\n",
       "      <td>[Two, woman, are, holding, packages, .]</td>\n",
       "      <td>[Two, women, embracing, holding, go, packages, .]</td>\n",
       "      <td>[Two, woman, holding, packages, .]</td>\n",
       "    </tr>\n",
       "    <tr>\n",
       "      <th>2</th>\n",
       "      <td>contradiction</td>\n",
       "      <td>Two women are embracing while holding to go pa...</td>\n",
       "      <td>The men are fighting outside a deli.</td>\n",
       "      <td>[Two, women, are, embracing, while, holding, t...</td>\n",
       "      <td>[The, men, are, fighting, outside, a, deli, .]</td>\n",
       "      <td>[Two, women, embracing, holding, go, packages, .]</td>\n",
       "      <td>[The, men, fighting, outside, deli, .]</td>\n",
       "    </tr>\n",
       "    <tr>\n",
       "      <th>3</th>\n",
       "      <td>entailment</td>\n",
       "      <td>Two young children in blue jerseys, one with t...</td>\n",
       "      <td>Two kids in numbered jerseys wash their hands.</td>\n",
       "      <td>[Two, young, children, in, blue, jerseys, ,, o...</td>\n",
       "      <td>[Two, kids, in, numbered, jerseys, wash, their...</td>\n",
       "      <td>[Two, young, children, blue, jerseys, ,, one, ...</td>\n",
       "      <td>[Two, kids, numbered, jerseys, wash, hands, .]</td>\n",
       "    </tr>\n",
       "    <tr>\n",
       "      <th>4</th>\n",
       "      <td>neutral</td>\n",
       "      <td>Two young children in blue jerseys, one with t...</td>\n",
       "      <td>Two kids at a ballgame wash their hands.</td>\n",
       "      <td>[Two, young, children, in, blue, jerseys, ,, o...</td>\n",
       "      <td>[Two, kids, at, a, ballgame, wash, their, hand...</td>\n",
       "      <td>[Two, young, children, blue, jerseys, ,, one, ...</td>\n",
       "      <td>[Two, kids, ballgame, wash, hands, .]</td>\n",
       "    </tr>\n",
       "  </tbody>\n",
       "</table>\n",
       "</div>"
      ],
      "text/plain": [
       "           score                                          sentence1  \\\n",
       "0        neutral  Two women are embracing while holding to go pa...   \n",
       "1     entailment  Two women are embracing while holding to go pa...   \n",
       "2  contradiction  Two women are embracing while holding to go pa...   \n",
       "3     entailment  Two young children in blue jerseys, one with t...   \n",
       "4        neutral  Two young children in blue jerseys, one with t...   \n",
       "\n",
       "                                           sentence2  \\\n",
       "0  The sisters are hugging goodbye while holding ...   \n",
       "1                    Two woman are holding packages.   \n",
       "2               The men are fighting outside a deli.   \n",
       "3     Two kids in numbered jerseys wash their hands.   \n",
       "4           Two kids at a ballgame wash their hands.   \n",
       "\n",
       "                                    sentence1_tokens  \\\n",
       "0  [Two, women, are, embracing, while, holding, t...   \n",
       "1  [Two, women, are, embracing, while, holding, t...   \n",
       "2  [Two, women, are, embracing, while, holding, t...   \n",
       "3  [Two, young, children, in, blue, jerseys, ,, o...   \n",
       "4  [Two, young, children, in, blue, jerseys, ,, o...   \n",
       "\n",
       "                                    sentence2_tokens  \\\n",
       "0  [The, sisters, are, hugging, goodbye, while, h...   \n",
       "1            [Two, woman, are, holding, packages, .]   \n",
       "2     [The, men, are, fighting, outside, a, deli, .]   \n",
       "3  [Two, kids, in, numbered, jerseys, wash, their...   \n",
       "4  [Two, kids, at, a, ballgame, wash, their, hand...   \n",
       "\n",
       "                               sentence1_tokens_stop  \\\n",
       "0  [Two, women, embracing, holding, go, packages, .]   \n",
       "1  [Two, women, embracing, holding, go, packages, .]   \n",
       "2  [Two, women, embracing, holding, go, packages, .]   \n",
       "3  [Two, young, children, blue, jerseys, ,, one, ...   \n",
       "4  [Two, young, children, blue, jerseys, ,, one, ...   \n",
       "\n",
       "                               sentence2_tokens_stop  \n",
       "0  [The, sisters, hugging, goodbye, holding, go, ...  \n",
       "1                 [Two, woman, holding, packages, .]  \n",
       "2             [The, men, fighting, outside, deli, .]  \n",
       "3     [Two, kids, numbered, jerseys, wash, hands, .]  \n",
       "4              [Two, kids, ballgame, wash, hands, .]  "
      ]
     },
     "execution_count": 9,
     "metadata": {},
     "output_type": "execute_result"
    }
   ],
   "source": [
    "rm_stop_words_df.head(5)"
   ]
  },
  {
   "cell_type": "code",
   "execution_count": null,
   "metadata": {},
   "outputs": [],
   "source": []
  }
 ],
 "metadata": {
  "kernelspec": {
   "display_name": "Python 3",
   "language": "python",
   "name": "python3"
  },
  "language_info": {
   "codemirror_mode": {
    "name": "ipython",
    "version": 3
   },
   "file_extension": ".py",
   "mimetype": "text/x-python",
   "name": "python",
   "nbconvert_exporter": "python",
   "pygments_lexer": "ipython3",
   "version": "3.6.8"
  }
 },
 "nbformat": 4,
 "nbformat_minor": 2
}
