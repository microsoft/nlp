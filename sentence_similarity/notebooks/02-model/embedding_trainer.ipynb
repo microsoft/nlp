{
 "cells": [
  {
   "cell_type": "markdown",
   "metadata": {},
   "source": [
    "# Developing Word Embeddings"
   ]
  },
  {
   "cell_type": "markdown",
   "metadata": {},
   "source": [
    "Rather than use pre-trained embeddings (as we did in the baseline_deep_dive notebook), we can train word embeddings using our own dataset. In this notebook, we demonstrate the training process for producing word embeddings using the word2vec, GloVe, and fastText models. We'll utilize the STS Benchmark dataset for this task. "
   ]
  },
  {
   "cell_type": "markdown",
   "metadata": {},
   "source": [
    "# Table of Contents\n",
    "* [Data Loading and Preprocessing](#Load-and-Preprocess-Data)\n",
    "* [Word2Vec](#Word2Vec)\n",
    "* [fastText](#fastText)\n",
    "* [GloVe](#GloVe)\n",
    "* [Concluding Remarks](#Concluding-Remarks)"
   ]
  },
  {
   "cell_type": "code",
   "execution_count": 1,
   "metadata": {},
   "outputs": [],
   "source": [
    "import gensim\n",
    "import sys\n",
    "import os"
   ]
  },
  {
   "cell_type": "markdown",
   "metadata": {},
   "source": [
    "## Load and Preprocess Data"
   ]
  },
  {
   "cell_type": "code",
   "execution_count": 2,
   "metadata": {},
   "outputs": [],
   "source": [
    "sys.path.append(\"../../../\")  ## set the environment path\n",
    "BASE_DATA_PATH = \"../../../data\"\n",
    "SAVE_FILES_PATH = BASE_DATA_PATH + \"/trained_word_embeddings/\"\n",
    "\n",
    "if not os.path.exists(SAVE_FILES_PATH):\n",
    "    os.makedirs(SAVE_FILES_PATH)\n",
    "    \n",
    "from utils_nlp.dataset.preprocess import (\n",
    "    to_lowercase,\n",
    "    to_spacy_tokens,\n",
    "    rm_spacy_stopwords,\n",
    ")\n",
    "from utils_nlp.dataset import stsbenchmark"
   ]
  },
  {
   "cell_type": "code",
   "execution_count": 3,
   "metadata": {},
   "outputs": [],
   "source": [
    "# Produce a pandas dataframe for the training set\n",
    "stsTrain = stsbenchmark.load_pandas_df(BASE_DATA_PATH, file_split=\"train\")"
   ]
  },
  {
   "cell_type": "code",
   "execution_count": 4,
   "metadata": {},
   "outputs": [],
   "source": [
    "# train preprocessing\n",
    "df_low = to_lowercase(stsTrain)  # convert all text to lowercase\n",
    "sts_tokenize = to_spacy_tokens(df_low)  # tokenize normally\n",
    "sts_train = rm_spacy_stopwords(sts_tokenize)  # tokenize with removal of stopwords"
   ]
  },
  {
   "cell_type": "code",
   "execution_count": 5,
   "metadata": {},
   "outputs": [],
   "source": [
    "#append together the sentence1_tokens and sentence2_tokens columns to get a list of all tokenized sentences\n",
    "sentences = sts_train[\"sentence1_tokens\"].append(sts_train[\"sentence2_tokens\"])"
   ]
  },
  {
   "cell_type": "code",
   "execution_count": 6,
   "metadata": {},
   "outputs": [
    {
     "data": {
      "text/plain": [
       "0                       [a, plane, is, taking, off, .]\n",
       "1            [a, man, is, playing, a, large, flute, .]\n",
       "2    [a, man, is, spreading, shreded, cheese, on, a...\n",
       "3                 [three, men, are, playing, chess, .]\n",
       "4                 [a, man, is, playing, the, cello, .]\n",
       "5                        [some, men, are, fighting, .]\n",
       "6                             [a, man, is, smoking, .]\n",
       "7               [the, man, is, playing, the, piano, .]\n",
       "8    [a, man, is, playing, on, a, guitar, and, sing...\n",
       "9    [a, person, is, throwing, a, cat, on, to, the,...\n",
       "dtype: object"
      ]
     },
     "execution_count": 6,
     "metadata": {},
     "output_type": "execute_result"
    }
   ],
   "source": [
    "sentences[:10]"
   ]
  },
  {
   "cell_type": "markdown",
   "metadata": {},
   "source": [
    "## Word2Vec"
   ]
  },
  {
   "cell_type": "markdown",
   "metadata": {},
   "source": [
    "Word2vec is a predictive model for learning word embeddings from text. Word embeddings are learned such that words that share common contexts in the corpus will be close together in the vector space. There are two different model architectures that can be used to produce word2vec embeddings: continuous bag-of-words (CBOW) or continuous skip-gram. The former uses a window of surrounding words (the \"context\") to predict the current word and the latter uses the current word to predict the surrounding context words. See this [tutorial](https://www.guru99.com/word-embedding-word2vec.html#3) on word2vec for more detailed background on the model."
   ]
  },
  {
   "cell_type": "markdown",
   "metadata": {},
   "source": [
    "The gensim Word2Vec model has many different parameters (see [here](https://radimrehurek.com/gensim/models/word2vec.html#gensim.models.word2vec.Word2Vec)) but the ones that are useful to know about are:  \n",
    "- size: length of the word embedding/vector (defaults to 100)\n",
    "- window: maximum distance between word being predicted and the current word (defaults to 5)\n",
    "- min_count: ignores all words that have a frequency lower than this value (defaults to 5)\n",
    "- workers: number of worker threads used to train the model (defaults to 3)\n",
    "- sg: training algorithm; 1 for skip-gram and 0 for CBOW (defaults to 0)"
   ]
  },
  {
   "cell_type": "code",
   "execution_count": 7,
   "metadata": {},
   "outputs": [],
   "source": [
    "from gensim.models import Word2Vec\n",
    "\n",
    "word2vec_model = Word2Vec(sentences, size=100, window=5, min_count=5, workers=3, sg=0)"
   ]
  },
  {
   "cell_type": "markdown",
   "metadata": {},
   "source": [
    "Now that the model is trained we can:\n",
    "\n",
    "1. Query for the word embeddings of a given word. \n",
    "2. Inspect the model vocabulary\n",
    "3. Save the word embeddings"
   ]
  },
  {
   "cell_type": "code",
   "execution_count": 8,
   "metadata": {},
   "outputs": [
    {
     "name": "stdout",
     "output_type": "stream",
     "text": [
      "Embedding for apple: [-0.09213913 -0.02462959 -0.11255068  0.11652157 -0.18142793 -0.17555593\n",
      "  0.07121698  0.086779   -0.03097944 -0.01890221 -0.04537104 -0.10696206\n",
      "  0.02276987  0.08645772  0.09701958 -0.22489007  0.03993007 -0.0748188\n",
      "  0.0185363  -0.257262    0.06551826  0.01579769 -0.18179104 -0.22390445\n",
      " -0.06907904 -0.08859113  0.00603421 -0.01953833 -0.0306666  -0.20717207\n",
      " -0.07466035 -0.10690664 -0.06131361 -0.0747569  -0.03541371 -0.02307771\n",
      " -0.04890924  0.09401437  0.14955166  0.03299814 -0.20348735  0.1091179\n",
      " -0.05915498  0.07897269 -0.0392515  -0.1337506   0.16920352  0.00084969\n",
      "  0.09151786 -0.07067705 -0.00130636 -0.00040609 -0.09070218 -0.05848758\n",
      "  0.01417456  0.12759478  0.06773403 -0.03618362  0.05180905 -0.03987553\n",
      "  0.15119544  0.1374909  -0.2100861  -0.12180148 -0.01784294  0.09922534\n",
      " -0.01852375  0.2757332  -0.07551172  0.06188574 -0.0189024   0.08390908\n",
      "  0.06324708 -0.02126443  0.07884526 -0.06014811 -0.1291807   0.03968196\n",
      " -0.00395843 -0.05398612  0.25687164  0.06331551 -0.07450255 -0.12246329\n",
      " -0.1481028   0.11168568 -0.24994832 -0.05962377  0.04101507  0.06981998\n",
      "  0.02528387  0.1725297   0.10974599  0.12216322 -0.16961183  0.0819602\n",
      "  0.15518941  0.12973912  0.09754901 -0.0033999 ]\n",
      "\n",
      "First 30 vocabulary words: ['a', 'plane', 'is', 'taking', 'off', '.', 'man', 'playing', 'large', 'flute', 'spreading', 'cheese', 'on', 'pizza', 'three', 'men', 'are', 'the', 'some', 'fighting']\n"
     ]
    }
   ],
   "source": [
    "# 1. Let's see the word embedding for \"apple\" by accessing the \"wv\" attribute and passing in \"apple\" as the key.\n",
    "print(\"Embedding for apple:\", word2vec_model.wv[\"apple\"])\n",
    "\n",
    "# 2. Inspect the model vocabulary by accessing keys of the \"wv.vocab\" attribute. We'll print the first 20 words\n",
    "print(\"\\nFirst 30 vocabulary words:\", list(word2vec_model.wv.vocab)[:20])\n",
    "\n",
    "# 3. Save the word embeddings. We can save as binary format (to save space) or ASCII format\n",
    "word2vec_model.wv.save_word2vec_format(SAVE_FILES_PATH+\"word2vec_model\", binary=True)  # binary format\n",
    "word2vec_model.wv.save_word2vec_format(SAVE_FILES_PATH+\"word2vec_model\", binary=False)  # ASCII format"
   ]
  },
  {
   "cell_type": "markdown",
   "metadata": {},
   "source": [
    "## fastText"
   ]
  },
  {
   "cell_type": "markdown",
   "metadata": {},
   "source": [
    "fastText is an unsupervised algorithm created by Facebook Research for efficiently learning word embeddings. fastText is significantly different than word2vec or GloVe in that these two algorithms treat each word as the smallest possible unit to find an embedding for. Conversely, fastText assumes that words are formed by an n-gram of characters (i.e. 2-grams of the word \"language\" would be {la, an, ng, gu, ua, ag, ge}). The embedding for a word is then composed of the sum of these character n-grams. This has advantages when finding word embeddings for rare words and words not present in the dictionary, as these words can still be broken down into character n-grams. Typically, for smaller datasets, fastText performs better than word2vec or GloVe. See this [tutorial](https://fasttext.cc/docs/en/unsupervised-tutorial.html) on fastText for more detail."
   ]
  },
  {
   "cell_type": "markdown",
   "metadata": {},
   "source": [
    "The gensim fastText model has many different parameters (see [here](https://radimrehurek.com/gensim/models/fasttext.html#gensim.models.fasttext.FastText)) but the ones that are useful to know about are:  \n",
    "- size: length of the word embedding/vector (defaults to 100)\n",
    "- window: maximum distance between word being predicted and the current word (defaults to 5)\n",
    "- min_count: ignores all words that have a frequency lower than this value (defaults to 5)\n",
    "- workers: number of worker threads used to train the model (defaults to 3)\n",
    "- sg: training algorithm- 1 for skip-gram and 0 for CBOW (defaults to 0)\n",
    "- iter: number of epochs (defaults to 5)\n"
   ]
  },
  {
   "cell_type": "code",
   "execution_count": 9,
   "metadata": {},
   "outputs": [],
   "source": [
    "from gensim.models.fasttext import FastText\n",
    "\n",
    "fastText_model = FastText(size=100, window=5, min_count=5, sentences=sentences, iter=5)"
   ]
  },
  {
   "cell_type": "markdown",
   "metadata": {},
   "source": [
    "We can utilize the same attributes as we saw above for word2vec due to them both originating from the gensim package"
   ]
  },
  {
   "cell_type": "code",
   "execution_count": 10,
   "metadata": {},
   "outputs": [
    {
     "name": "stdout",
     "output_type": "stream",
     "text": [
      "Embedding for apple: [-2.1927688e-01  2.9813698e-02  6.7616858e-02  3.6836052e-01\n",
      "  2.9166859e-01 -4.3027815e-01 -4.3850473e-01 -5.5472869e-01\n",
      " -2.4860071e-01 -2.8481758e-01 -8.5550338e-02  2.0373566e-01\n",
      " -8.8941768e-02 -3.5824496e-01 -7.3820040e-02  1.9162497e-01\n",
      "  1.9164029e-01  3.2222369e-01  1.7169371e-01 -1.8063694e-01\n",
      " -2.5478544e-02  3.8527763e-01 -4.4661409e-01 -1.9077049e-01\n",
      "  6.3831955e-01 -3.4981030e-01  3.6546609e-01  7.3591776e-02\n",
      " -1.7809562e-01 -3.0694399e-02 -6.5486156e-04  2.8458415e-02\n",
      " -1.4853548e-01 -1.1247496e-01  2.6613681e-02 -1.5886196e-01\n",
      "  1.0738261e-01  5.2269661e-01  4.1452998e-01 -2.4978566e-01\n",
      " -3.6866227e-01  4.5613028e-02 -2.5554851e-01 -2.9870963e-02\n",
      " -3.4256181e-01  4.1204464e-01  3.3703518e-01 -5.3163689e-01\n",
      "  2.7413066e-02 -3.2481736e-01 -2.1018679e-01 -3.5171476e-01\n",
      "  5.6522321e-02  3.2140371e-01 -3.0404109e-01  7.3594677e-01\n",
      " -4.7126335e-01  2.5894231e-01 -2.6430738e-01 -1.1617108e-01\n",
      " -2.7015641e-01 -3.2107431e-01  8.0991395e-02 -1.8977067e-01\n",
      "  1.6966967e-01  3.6855596e-01 -2.0167376e-01 -1.6917199e-02\n",
      " -4.0029153e-02  8.3818562e-02  8.8887364e-02 -3.4052727e-01\n",
      " -1.5159512e-01  4.2969501e-01 -1.8632193e-01 -4.8835874e-02\n",
      " -1.9202119e-01  1.5949497e-01 -3.4046504e-01  4.6990579e-03\n",
      "  9.2628546e-02  1.6060786e-02  3.8600260e-01 -8.4986687e-02\n",
      "  4.4739038e-01  2.1059968e-01 -1.9877617e-01  1.8113001e-01\n",
      "  9.4012588e-02  5.5849826e-01 -3.2842401e-01  6.3832772e-01\n",
      " -1.1614193e-01 -4.4778910e-01  1.4173931e-01 -2.4079295e-02\n",
      "  1.8156306e-01 -1.9836307e-01  1.4190227e-01  1.5471222e-01]\n",
      "\n",
      "First 30 vocabulary words: ['a', 'plane', 'is', 'taking', 'off', '.', 'man', 'playing', 'large', 'flute', 'spreading', 'cheese', 'on', 'pizza', 'three', 'men', 'are', 'the', 'some', 'fighting']\n"
     ]
    }
   ],
   "source": [
    "# 1. Let's see the word embedding for \"apple\" by accessing the \"wv\" attribute and passing in \"apple\" as the key.\n",
    "print(\"Embedding for apple:\", fastText_model.wv[\"apple\"])\n",
    "\n",
    "# 2. Inspect the model vocabulary by accessing keys of the \"wv.vocab\" attribute. We'll print the first 20 words\n",
    "print(\"\\nFirst 30 vocabulary words:\", list(fastText_model.wv.vocab)[:20])\n",
    "\n",
    "# 3. Save the word embeddings. We can save as binary format (to save space) or ASCII format\n",
    "fastText_model.wv.save_word2vec_format(SAVE_FILES_PATH+\"fastText_model\", binary=True)  # binary format\n",
    "fastText_model.wv.save_word2vec_format(SAVE_FILES_PATH+\"fastText_model\", binary=False)  # ASCII format"
   ]
  },
  {
   "cell_type": "markdown",
   "metadata": {},
   "source": [
    "## GloVe"
   ]
  },
  {
   "cell_type": "markdown",
   "metadata": {},
   "source": [
    "GloVe is an unsupervised algorithm for obtaining word embeddings created by the Stanford NLP group. Training occurs on word-word co-occurrence statistics with the objective of learning word embeddings such that the dot product of two words' embeddings is equal to the words' probability of co-occurrence. See this [tutorial](https://nlp.stanford.edu/projects/glove/) on GloVe for more detailed background on the model. \n",
    "\n",
    "Gensim doesn't have an implementation of the GloVe model, so we suggest getting the code directly from Stanford NLP, who developed the algorithm (https://github.com/stanfordnlp/GloVe). Run the following commands to clone the repo and then make. Clone the repo in the same location as this notebook! Otherwise, the paths below will need to be modified.  \n",
    "\n",
    "    git clone http://github.com/stanfordnlp/glove    \n",
    "    cd glove && make  "
   ]
  },
  {
   "cell_type": "markdown",
   "metadata": {},
   "source": [
    "### Train GloVe vectors"
   ]
  },
  {
   "cell_type": "markdown",
   "metadata": {},
   "source": [
    "Training GloVe embeddings requires some data prep and then 4 steps (also documented in the original Stanford NLP repo [here](https://github.com/stanfordnlp/GloVe/tree/master/src))."
   ]
  },
  {
   "cell_type": "markdown",
   "metadata": {},
   "source": [
    "**Step 0: Prepare Data**\n",
    "   \n",
    "In order to train our GloVe vectors, we first need to save our corpus as a text file with all words separated by 1+ spaces or tabs. Each document/sentence is separated by a new line character."
   ]
  },
  {
   "cell_type": "code",
   "execution_count": 11,
   "metadata": {},
   "outputs": [],
   "source": [
    "#save our corpus as tokens delimited by spaces with new line characters in between sentences\n",
    "with open(BASE_DATA_PATH+'/clean/stsbenchmark/training-corpus-cleaned.txt', 'w', encoding='utf8') as file:\n",
    "    for sent in sentences:\n",
    "        file.write(\" \".join(sent) + \"\\n\")"
   ]
  },
  {
   "cell_type": "markdown",
   "metadata": {},
   "source": [
    "**Step 1: Build Vocabulary**\n",
    "\n",
    "Run the vocab_count executable. There are 3 optional parameters:\n",
    "1. min-count: lower limit on how many times a word must appear in dataset. Otherwise the word is discarded from vocabulary.\n",
    "2. max-vocab: upper bound on the number of vocabulary words to keep\n",
    "3. verbose: 0, 1, or 2 (default)\n",
    "\n",
    "Then provide the path to the text file we created in Step 0 followed by a file path that we'll save the vocabulary to "
   ]
  },
  {
   "cell_type": "code",
   "execution_count": 12,
   "metadata": {},
   "outputs": [
    {
     "name": "stderr",
     "output_type": "stream",
     "text": [
      "BUILDING VOCABULARY\n",
      "Processed 0 tokens.100000 tokens.Processed 129989 tokens.\n",
      "Counted 11986 unique words.\n",
      "Truncating vocabulary at min count 5.\n",
      "Using vocabulary of size 3166.\n",
      "\n"
     ]
    }
   ],
   "source": [
    "!\"glove/build/vocab_count\" -min-count 5 -verbose 2 <\"../../../data/clean/stsbenchmark/training-corpus-cleaned.txt\"> \"../../../data/trained_word_embeddings/vocab.txt\""
   ]
  },
  {
   "cell_type": "markdown",
   "metadata": {},
   "source": [
    "**Step 2: Construct Word Co-occurrence Statistics**\n",
    "\n",
    "Run the cooccur executable. There are many optional parameters, but we list the top ones here:\n",
    "1. symmetric: 0 for only looking at left context, 1 (default) for looking at both left and right context\n",
    "2. window-size: number of context words to use (default 15)\n",
    "3. verbose: 0, 1, or 2 (default)\n",
    "4. vocab-file: path/name of the vocabulary file created in Step 1\n",
    "5. memory: soft limit for memory consumption, default 4\n",
    "6. max-product: limit the size of dense co-occurrence array by specifying the max product (integer) of the frequency counts of the two co-occurring words\n",
    "\n",
    "Then provide the path to the text file we created in Step 0 followed by a file path that we'll save the co-occurrences to"
   ]
  },
  {
   "cell_type": "code",
   "execution_count": 13,
   "metadata": {},
   "outputs": [
    {
     "name": "stderr",
     "output_type": "stream",
     "text": [
      "COUNTING COOCCURRENCES\n",
      "window size: 15\n",
      "context: symmetric\n",
      "max product: 13752509\n",
      "overflow length: 38028356\n",
      "Reading vocab from file \"../../../data/trained_word_embeddings/vocab.txt\"...loaded 3166 words.\n",
      "Building lookup table...table contains 10023557 elements.\n",
      "Processing token: 0100000Processed 129989 tokens.\n",
      "Writing cooccurrences to disk.......2 files in total.\n",
      "Merging cooccurrence files: processed 0 lines.0 lines.100000 lines.200000 lines.300000 lines.Merging cooccurrence files: processed 340325 lines.\n",
      "\n"
     ]
    }
   ],
   "source": [
    "!\"glove/build/cooccur\" -memory 4 -vocab-file \"../../../data/trained_word_embeddings/vocab.txt\" -verbose 2 -window-size 15 <\"../../../data/clean/stsbenchmark/training-corpus-cleaned.txt\"> \"../../../data/trained_word_embeddings/cooccurrence.bin\""
   ]
  },
  {
   "cell_type": "markdown",
   "metadata": {},
   "source": [
    "**Step 3: Shuffle the Co-occurrences**\n",
    "\n",
    "Run the shuffle executable. The parameters are as follows:\n",
    "1. verbose: 0, 1, or 2 (default)\n",
    "2. memory: soft limit for memory consumption, default 4\n",
    "3. array-size: limit to the length of the buffer which stores chunks of data to shuffle before writing to disk\n",
    "\n",
    "Then provide the path to the co-occurrence file we created in Step 2 followed by a file path that we'll save the shuffled co-occurrences to"
   ]
  },
  {
   "cell_type": "code",
   "execution_count": 14,
   "metadata": {},
   "outputs": [
    {
     "name": "stderr",
     "output_type": "stream",
     "text": [
      "SHUFFLING COOCCURRENCES\n",
      "array size: 255013683\n",
      "Shuffling by chunks: processed 0 lines.processed 340325 lines.\n",
      "Wrote 1 temporary file(s).\n",
      "Merging temp files: processed 0 lines.340325 lines.Merging temp files: processed 340325 lines.\n",
      "\n"
     ]
    }
   ],
   "source": [
    "!\"glove/build/shuffle\" -memory 4 -verbose 2 <\"../../../data/trained_word_embeddings/cooccurrence.bin\"> \"../../../data/trained_word_embeddings/cooccurrence.shuf.bin\""
   ]
  },
  {
   "cell_type": "markdown",
   "metadata": {},
   "source": [
    "**Step 4: Train GloVe model**\n",
    "\n",
    "Run the glove executable. There are many parameter options, but the top ones are listed below:\n",
    "1. verbose: 0, 1, or 2 (default)\n",
    "2. vector-size: dimension of word embeddings (50 is default)\n",
    "3. threads: number threads, default 8\n",
    "4. iter: number of iterations, default 25\n",
    "5. eta: learning rate, default 0.05\n",
    "6. binary: whether to save binary format (0: text = default, 1: binary, 2: both)\n",
    "7. x-max: cutoff for weighting function, default is 100\n",
    "8. vocab-file: file containing vocabulary as produced in Step 1\n",
    "9. save-file: filename to save vectors to \n",
    "10. input-file: filename with co-occurrences as returned from Step 3"
   ]
  },
  {
   "cell_type": "code",
   "execution_count": 15,
   "metadata": {},
   "outputs": [
    {
     "name": "stderr",
     "output_type": "stream",
     "text": [
      "TRAINING MODEL\n",
      "Read 340325 lines.\n",
      "Initializing parameters...done.\n",
      "vector size: 50\n",
      "vocab size: 3166\n",
      "x_max: 10.000000\n",
      "alpha: 0.750000\n",
      "04/30/19 - 10:33.02AM, iter: 001, cost: 0.098433\n",
      "04/30/19 - 10:33.02AM, iter: 002, cost: 0.084675\n",
      "04/30/19 - 10:33.02AM, iter: 003, cost: 0.074585\n",
      "04/30/19 - 10:33.02AM, iter: 004, cost: 0.071048\n",
      "04/30/19 - 10:33.02AM, iter: 005, cost: 0.067768\n",
      "04/30/19 - 10:33.02AM, iter: 006, cost: 0.064212\n",
      "04/30/19 - 10:33.02AM, iter: 007, cost: 0.060040\n",
      "04/30/19 - 10:33.02AM, iter: 008, cost: 0.055310\n",
      "04/30/19 - 10:33.02AM, iter: 009, cost: 0.050727\n",
      "04/30/19 - 10:33.02AM, iter: 010, cost: 0.046803\n",
      "04/30/19 - 10:33.02AM, iter: 011, cost: 0.043456\n",
      "04/30/19 - 10:33.02AM, iter: 012, cost: 0.040570\n",
      "04/30/19 - 10:33.02AM, iter: 013, cost: 0.038074\n",
      "04/30/19 - 10:33.02AM, iter: 014, cost: 0.035818\n",
      "04/30/19 - 10:33.02AM, iter: 015, cost: 0.033807\n"
     ]
    }
   ],
   "source": [
    "!\"glove/build/glove\" -save-file \"../../../data/trained_word_embeddings/GloVe_vectors\" -threads 8 -input-file \\\n",
    "\"../../../data/trained_word_embeddings/cooccurrence.shuf.bin\" -x-max 10 -iter 15 -vector-size 50 -binary 2 \\\n",
    "-vocab-file \"../../../data/trained_word_embeddings/vocab.txt\" -verbose 2"
   ]
  },
  {
   "cell_type": "markdown",
   "metadata": {},
   "source": [
    "### Inspect Word Vectors"
   ]
  },
  {
   "cell_type": "markdown",
   "metadata": {},
   "source": [
    "Like we did above for the word2vec and fastText models, let's now inspect our word embeddings"
   ]
  },
  {
   "cell_type": "code",
   "execution_count": 16,
   "metadata": {},
   "outputs": [],
   "source": [
    "#load in the saved word vectors\n",
    "glove_wv = {}\n",
    "with open(\"../../../data/trained_word_embeddings/GloVe_vectors.txt\", encoding='utf-8') as f:\n",
    "    for line in f:\n",
    "        split_line = line.split(\" \")\n",
    "        glove_wv[split_line[0]] = [float(i) for i in split_line[1:]]"
   ]
  },
  {
   "cell_type": "code",
   "execution_count": 17,
   "metadata": {},
   "outputs": [
    {
     "name": "stdout",
     "output_type": "stream",
     "text": [
      "Embedding for apple: [0.007199, -0.055337, -0.048813, 0.463647, 0.233898, -0.020051, 0.18876, -0.19439, 0.014477, 0.122465, -0.145506, -0.056616, -0.076315, 0.051205, -0.197457, 0.197818, 0.191692, 0.259758, -0.088431, -0.101713, -0.024687, -0.083431, -0.056415, 0.08024, 0.150831, 0.030778, -0.176252, 0.291561, -0.298596, 0.111546, 0.385694, 0.184508, -0.133928, 0.007924, 0.088849, 0.016869, -0.195535, 0.002015, -0.053591, 0.043867, -0.195157, 0.270429, -0.003891, -0.033436, 0.077898, -0.083324, -0.135095, -0.419319, -0.140611, 0.000322]\n",
      "\n",
      "First 30 vocabulary words: ['.', 'a', 'the', 'in', ',', 'is', 'to', 'of', 'and', 'on', 'man', '-', \"'s\", 'with', 'for', 'at', 'woman', 'are', 'that', 'two']\n"
     ]
    }
   ],
   "source": [
    "# 1. Let's see the word embedding for \"apple\" by passing in \"apple\" as the key.\n",
    "print(\"Embedding for apple:\", glove_wv[\"apple\"])\n",
    "\n",
    "# 2. Inspect the model vocabulary by accessing keys of the \"wv.vocab\" attribute. We'll print the first 20 words\n",
    "print(\"\\nFirst 30 vocabulary words:\", list(glove_wv.keys())[:20])"
   ]
  },
  {
   "cell_type": "markdown",
   "metadata": {},
   "source": [
    "# Concluding Remarks\n",
    "\n",
    "In this notebook we have shown how to train word2vec, GloVe, and fastText word embeddings on the STS Benchmark dataset. FastText is typically regarded as the best baseline for word embeddings (see [blog](https://medium.com/huggingface/universal-word-sentence-embeddings-ce48ddc8fc3a)) and is a good place to start when generating word embeddings. Now that we generated word embeddings on our dataset, we could also repeat the baseline-deep-dive notebook using these embeddings (versus the pre-trained ones from the internet). "
   ]
  }
 ],
 "metadata": {
  "kernelspec": {
   "display_name": "Python 3",
   "language": "python",
   "name": "python3"
  },
  "language_info": {
   "codemirror_mode": {
    "name": "ipython",
    "version": 3
   },
   "file_extension": ".py",
   "mimetype": "text/x-python",
   "name": "python",
   "nbconvert_exporter": "python",
   "pygments_lexer": "ipython3",
   "version": "3.6.8"
  }
 },
 "nbformat": 4,
 "nbformat_minor": 2
}
