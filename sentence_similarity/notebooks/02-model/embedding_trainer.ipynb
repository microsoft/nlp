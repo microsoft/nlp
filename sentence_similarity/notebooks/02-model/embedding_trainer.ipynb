{
 "cells": [
  {
   "cell_type": "markdown",
   "metadata": {},
   "source": [
    "# Developing Word Embeddings"
   ]
  },
  {
   "cell_type": "markdown",
   "metadata": {},
   "source": [
    "Rather than use pre-trained embeddings (as we did in the baseline_deep_dive notebook), we can train word embeddings using our own dataset. In this notebook, we demonstrate the training process for producing word embeddings using the word2vec, GloVe, and fastText models. We'll utilize the STS Benchmark dataset for this task. "
   ]
  },
  {
   "cell_type": "markdown",
   "metadata": {},
   "source": [
    "# Table of Contents\n",
    "* [Data Loading and Preprocessing](#Load-and-Preprocess-Data)\n",
    "* [Word2Vec](#Word2Vec)\n",
    "* [fastText](#fastText)\n",
    "* [GloVe](#GloVe)\n",
    "* [Concluding Remarks](#Concluding-Remarks)"
   ]
  },
  {
   "cell_type": "code",
   "execution_count": 1,
   "metadata": {},
   "outputs": [],
   "source": [
    "import gensim\n",
    "import sys"
   ]
  },
  {
   "cell_type": "markdown",
   "metadata": {},
   "source": [
    "## Load and Preprocess Data"
   ]
  },
  {
   "cell_type": "code",
   "execution_count": 2,
   "metadata": {},
   "outputs": [],
   "source": [
    "sys.path.append(\"../../../\")  ## set the environment path\n",
    "\n",
    "BASE_DATA_PATH = \"../../../data\"\n",
    "\n",
    "from utils_nlp.dataset.stsbenchmark import STSBenchmark\n",
    "from utils_nlp.dataset.preprocess import (\n",
    "    to_lowercase,\n",
    "    to_spacy_tokens,\n",
    "    rm_spacy_stopwords,\n",
    ")"
   ]
  },
  {
   "cell_type": "code",
   "execution_count": 3,
   "metadata": {},
   "outputs": [],
   "source": [
    "# Initializing this instance runs the downloader and extractor behind the scenes, then convert to dataframe\n",
    "stsTrain = STSBenchmark(\"train\", base_data_path=BASE_DATA_PATH).as_dataframe()"
   ]
  },
  {
   "cell_type": "code",
   "execution_count": 4,
   "metadata": {},
   "outputs": [],
   "source": [
    "# train preprocessing\n",
    "df_low = to_lowercase(stsTrain)  # convert all text to lowercase\n",
    "sts_tokenize = to_spacy_tokens(df_low)  # tokenize normally\n",
    "sts_train = rm_spacy_stopwords(sts_tokenize)  # tokenize with removal of stopwords"
   ]
  },
  {
   "cell_type": "code",
   "execution_count": 5,
   "metadata": {},
   "outputs": [],
   "source": [
    "#append together the sentence1_tokens and sentence2_tokens columns to get a list of all tokenized sentences\n",
    "sentences = sts_train[\"sentence1_tokens\"].append(sts_train[\"sentence2_tokens\"])"
   ]
  },
  {
   "cell_type": "code",
   "execution_count": 6,
   "metadata": {},
   "outputs": [
    {
     "data": {
      "text/plain": [
       "0                       [a, plane, is, taking, off, .]\n",
       "1            [a, man, is, playing, a, large, flute, .]\n",
       "2    [a, man, is, spreading, shreded, cheese, on, a...\n",
       "3                 [three, men, are, playing, chess, .]\n",
       "4                 [a, man, is, playing, the, cello, .]\n",
       "5                        [some, men, are, fighting, .]\n",
       "6                             [a, man, is, smoking, .]\n",
       "7               [the, man, is, playing, the, piano, .]\n",
       "8    [a, man, is, playing, on, a, guitar, and, sing...\n",
       "9    [a, person, is, throwing, a, cat, on, to, the,...\n",
       "dtype: object"
      ]
     },
     "execution_count": 6,
     "metadata": {},
     "output_type": "execute_result"
    }
   ],
   "source": [
    "sentences[:10]"
   ]
  },
  {
   "cell_type": "markdown",
   "metadata": {},
   "source": [
    "## Word2Vec"
   ]
  },
  {
   "cell_type": "markdown",
   "metadata": {},
   "source": [
    "Word2vec is a predictive model for learning word embeddings from text. Word embeddings are learned such that words that share common contexts in the corpus will be close together in the vector space. There are two different model architectures that can be used to produce word2vec embeddings: continuous bag-of-words (CBOW) or continuous skip-gram. The former uses a window of surrounding words (the \"context\") to predict the current word and the latter uses the current word to predict the surrounding context words. See this [tutorial](https://www.guru99.com/word-embedding-word2vec.html#3) on word2vec for more detailed background on the model."
   ]
  },
  {
   "cell_type": "markdown",
   "metadata": {},
   "source": [
    "The gensim Word2Vec model has many different parameters (see [here](https://radimrehurek.com/gensim/models/word2vec.html#gensim.models.word2vec.Word2Vec)) but the ones that are useful to know about are:  \n",
    "- size: length of the word embedding/vector (defaults to 100)\n",
    "- window: maximum distance between word being predicted and the current word (defaults to 5)\n",
    "- min_count: ignores all words that have a frequency lower than this value (defaults to 5)\n",
    "- workers: number of worker threads used to train the model (defaults to 3)\n",
    "- sg: training algorithm; 1 for skip-gram and 0 for CBOW (defaults to 0)"
   ]
  },
  {
   "cell_type": "code",
   "execution_count": 7,
   "metadata": {},
   "outputs": [],
   "source": [
    "from gensim.models import Word2Vec\n",
    "\n",
    "word2vec_model = Word2Vec(sentences, size=100, window=5, min_count=5, workers=3, sg=0)"
   ]
  },
  {
   "cell_type": "markdown",
   "metadata": {},
   "source": [
    "Now that the model is trained we can:\n",
    "\n",
    "1. Query for the word embeddings of a given word. \n",
    "2. Inspect the model vocabulary\n",
    "3. Save the word embeddings"
   ]
  },
  {
   "cell_type": "code",
   "execution_count": 8,
   "metadata": {},
   "outputs": [
    {
     "name": "stdout",
     "output_type": "stream",
     "text": [
      "Embedding for apple: [-1.30064473e-01  1.84295833e-01 -1.53965428e-01 -9.69498605e-02\n",
      "  4.99420874e-02 -1.23197936e-01  7.28140250e-02 -4.12699208e-02\n",
      "  2.47626036e-01 -2.69805547e-04 -7.65557750e-04  2.08947986e-01\n",
      "  7.81186996e-03  5.42742060e-03  5.25087006e-02  2.47807354e-01\n",
      " -2.48165410e-02  9.91394650e-03  3.54040265e-02 -2.14830145e-01\n",
      "  2.24868301e-02  1.52286962e-01  1.85761824e-01  2.33249858e-01\n",
      " -1.46878466e-01 -7.60829672e-02  4.50950442e-03  1.15145534e-01\n",
      " -9.11297649e-02  6.20169528e-02 -5.24968617e-02 -8.68254527e-02\n",
      " -1.77496113e-04  8.58828798e-02  1.19839951e-01  2.51445977e-04\n",
      " -3.06774918e-02  2.70280894e-03 -9.14655998e-02  5.54770082e-02\n",
      "  6.70319721e-02 -1.10063367e-01 -9.94274616e-02 -1.62537303e-02\n",
      "  1.07709818e-01 -1.17890313e-01 -1.68436840e-02  2.67276943e-01\n",
      "  1.66485235e-02 -1.05556019e-01  8.72049183e-02 -2.79379219e-01\n",
      " -7.61673898e-02 -1.26047105e-01 -2.10570037e-01  1.06335968e-01\n",
      " -1.13933079e-01  8.91806409e-02  2.40348503e-02  1.27991261e-02\n",
      " -9.80987865e-03 -8.29416886e-02 -1.05351470e-01  9.63128060e-02\n",
      " -1.32907405e-01 -5.90794981e-02 -1.05936542e-01  5.24872467e-02\n",
      " -1.62810262e-04  1.90204114e-03 -1.07438803e-01 -1.86693370e-02\n",
      " -1.74428806e-01 -2.69948710e-02 -4.38663997e-02 -4.28975448e-02\n",
      "  9.05705541e-02 -2.10348725e-01 -1.16732195e-01  3.60293575e-02\n",
      " -2.08853818e-02  2.63118356e-01  1.76015347e-01  1.23300500e-01\n",
      " -3.50267850e-02 -4.52703685e-02 -1.70624122e-01 -3.28516886e-02\n",
      "  5.28835841e-02  8.53991881e-02 -8.47622007e-02  2.25594401e-01\n",
      " -1.77075803e-01 -5.37518365e-03  9.42931976e-03  1.78159177e-02\n",
      " -7.26433992e-02 -3.52309011e-02 -1.68363556e-01  2.79879309e-02]\n",
      "\n",
      "First 30 vocabulary words: ['a', 'plane', 'is', 'taking', 'off', '.', 'man', 'playing', 'large', 'flute', 'spreading', 'cheese', 'on', 'pizza', 'three', 'men', 'are', 'the', 'some', 'fighting']\n"
     ]
    }
   ],
   "source": [
    "# 1. Let's see the word embedding for \"apple\" by accessing the \"wv\" attribute and passing in \"apple\" as the key.\n",
    "print(\"Embedding for apple:\", word2vec_model.wv[\"apple\"])\n",
    "\n",
    "# 2. Inspect the model vocabulary by accessing keys of the \"wv.vocab\" attribute. We'll print the first 20 words\n",
    "print(\"\\nFirst 30 vocabulary words:\", list(word2vec_model.wv.vocab)[:20])\n",
    "\n",
    "# 3. Save the word embeddings. We can save as binary format (to save space) or ASCII format\n",
    "word2vec_model.wv.save_word2vec_format(\"word2vec_model\", binary=True)  # binary format\n",
    "word2vec_model.wv.save_word2vec_format(\"word2vec_model\", binary=False)  # ASCII format"
   ]
  },
  {
   "cell_type": "markdown",
   "metadata": {},
   "source": [
    "## fastText"
   ]
  },
  {
   "cell_type": "markdown",
   "metadata": {},
   "source": [
    "fastText is an unsupervised algorithm created by Facebook Research for efficiently learning word embeddings. fastText is significantly different than word2vec or GloVe in that these two algorithms treat each word as the smallest possible unit to find an embedding for. Conversely, fastText assumes that words are formed by an n-gram of characters (i.e. 2-grams of the word \"language\" would be {la, an, ng, gu, ua, ag, ge}). The embedding for a word is then composed of the sum of these character n-grams. This has advantages when finding word embeddings for rare words and words not present in the dictionary, as these words can still be broken down into character n-grams. Typically, for smaller datasets, fastText performs better than word2vec or GloVe. See this [tutorial](https://fasttext.cc/docs/en/unsupervised-tutorial.html) on fastText for more detail."
   ]
  },
  {
   "cell_type": "markdown",
   "metadata": {},
   "source": [
    "The gensim fastText model has many different parameters (see [here](https://radimrehurek.com/gensim/models/fasttext.html#gensim.models.fasttext.FastText)) but the ones that are useful to know about are:  \n",
    "- size: length of the word embedding/vector (defaults to 100)\n",
    "- window: maximum distance between word being predicted and the current word (defaults to 5)\n",
    "- min_count: ignores all words that have a frequency lower than this value (defaults to 5)\n",
    "- workers: number of worker threads used to train the model (defaults to 3)\n",
    "- sg: training algorithm- 1 for skip-gram and 0 for CBOW (defaults to 0)\n",
    "- iter: number of epochs (defaults to 5)\n"
   ]
  },
  {
   "cell_type": "code",
   "execution_count": 9,
   "metadata": {},
   "outputs": [],
   "source": [
    "from gensim.models.fasttext import FastText\n",
    "\n",
    "fastText_model = FastText(size=100, window=5, min_count=5, sentences=sentences, iter=5)"
   ]
  },
  {
   "cell_type": "markdown",
   "metadata": {},
   "source": [
    "We can utilize the same attributes as we saw above for word2vec due to them both originating from the gensim package"
   ]
  },
  {
   "cell_type": "code",
   "execution_count": 10,
   "metadata": {},
   "outputs": [
    {
     "name": "stdout",
     "output_type": "stream",
     "text": [
      "Embedding for apple: [-0.19466035  0.02329457  0.11905755  0.43202105  0.29234868 -0.4173747\n",
      " -0.42871934 -0.587514   -0.24620762 -0.30886024 -0.04068367  0.20132142\n",
      " -0.1593995  -0.34693947 -0.05454068  0.21118519  0.20061074  0.33920124\n",
      "  0.13465068 -0.16492505 -0.01792471  0.3517471  -0.42507643 -0.14185262\n",
      "  0.6766511  -0.35682997  0.38852996  0.08338872 -0.16927068  0.00101932\n",
      "  0.01033709 -0.00513317 -0.15251048 -0.07668231  0.02508747 -0.16725563\n",
      "  0.13578647  0.5188022   0.4219404  -0.29186445 -0.35036987  0.04769979\n",
      " -0.23967543 -0.03550959 -0.4072291   0.4920213   0.30146047 -0.569966\n",
      "  0.12033249 -0.24960376 -0.20398642 -0.37427858  0.04139522  0.28986236\n",
      " -0.31172943  0.7363574  -0.43040937  0.24302956 -0.2891899  -0.12707426\n",
      " -0.26763597 -0.3471016   0.08912586 -0.20722611  0.1529707   0.39230242\n",
      " -0.23503402 -0.00332095 -0.04347242 -0.00989339  0.08801552 -0.36916256\n",
      " -0.13720557  0.40390077 -0.21936806 -0.10426865 -0.18858872  0.15547332\n",
      " -0.3519439   0.00505178  0.1029634  -0.00991125  0.41537017 -0.10500967\n",
      "  0.43521944  0.26955605 -0.23591378  0.14193945  0.08484828  0.57761383\n",
      " -0.31014645  0.63834554 -0.15213463 -0.46310434  0.10502262 -0.03921723\n",
      "  0.21358919 -0.17636251  0.14675795  0.15879233]\n",
      "\n",
      "First 30 vocabulary words: ['a', 'plane', 'is', 'taking', 'off', '.', 'man', 'playing', 'large', 'flute', 'spreading', 'cheese', 'on', 'pizza', 'three', 'men', 'are', 'the', 'some', 'fighting']\n"
     ]
    }
   ],
   "source": [
    "# 1. Let's see the word embedding for \"apple\" by accessing the \"wv\" attribute and passing in \"apple\" as the key.\n",
    "print(\"Embedding for apple:\", fastText_model.wv[\"apple\"])\n",
    "\n",
    "# 2. Inspect the model vocabulary by accessing keys of the \"wv.vocab\" attribute. We'll print the first 20 words\n",
    "print(\"\\nFirst 30 vocabulary words:\", list(fastText_model.wv.vocab)[:20])\n",
    "\n",
    "# 3. Save the word embeddings. We can save as binary format (to save space) or ASCII format\n",
    "fastText_model.wv.save_word2vec_format(\"fastText_model\", binary=True)  # binary format\n",
    "fastText_model.wv.save_word2vec_format(\"fastText_model\", binary=False)  # ASCII format"
   ]
  },
  {
   "cell_type": "markdown",
   "metadata": {},
   "source": [
    "## GloVe"
   ]
  },
  {
   "cell_type": "markdown",
   "metadata": {},
   "source": [
    "GloVe is an unsupervised algorithm for obtaining word embeddings created by the Stanford NLP group. Training occurs on word-word co-occurrence statistics with the objective of learning word embeddings such that the dot product of two words' embeddings is equal to the words' probability of co-occurrence. See this [tutorial](https://nlp.stanford.edu/projects/glove/) on GloVe for more detailed background on the model. \n",
    "\n",
    "Gensim doesn't have an implementation of the GloVe model, so we suggest getting the code directly from Stanford NLP, who developed the algorithm (https://github.com/stanfordnlp/GloVe). Run the following commands to clone the repo and then make. Clone the repo in the same location as this notebook! Otherwise, the paths below will need to be modified.  \n",
    "\n",
    "    git clone http://github.com/stanfordnlp/glove    \n",
    "    cd glove && make  "
   ]
  },
  {
   "cell_type": "markdown",
   "metadata": {},
   "source": [
    "### Train GloVe vectors"
   ]
  },
  {
   "cell_type": "markdown",
   "metadata": {},
   "source": [
    "Training GloVe embeddings requires some data prep and then 4 steps (also documented in the original Stanford NLP repo [here](https://github.com/stanfordnlp/GloVe/tree/master/src))."
   ]
  },
  {
   "cell_type": "markdown",
   "metadata": {},
   "source": [
    "**Step 0: Prepare Data**\n",
    "   \n",
    "In order to train our GloVe vectors, we first need to save our corpus as a text file with all words separated by 1+ spaces or tabs. Each document/sentence is separated by a new line character."
   ]
  },
  {
   "cell_type": "code",
   "execution_count": 11,
   "metadata": {},
   "outputs": [],
   "source": [
    "#save our corpus as tokens delimited by spaces with new line characters in between sentences\n",
    "with open('sentences.txt', 'w', encoding='utf8') as file:\n",
    "    for sent in sentences:\n",
    "        file.write(\" \".join(sent) + \"\\n\")"
   ]
  },
  {
   "cell_type": "markdown",
   "metadata": {},
   "source": [
    "**Step 1: Build Vocabulary**\n",
    "\n",
    "Run the vocab_count executable. There are 3 optional parameters:\n",
    "1. min-count: lower limit on how many times a word must appear in dataset. Otherwise the word is discarded from vocabulary.\n",
    "2. max-vocab: upper bound on the number of vocabulary words to keep\n",
    "3. verbose: 0, 1, or 2 (default)\n",
    "\n",
    "Then provide the path to the text file we created in Step 0 (<\"sentences.txt\">) followed by a file path that we'll save the vocabulary to (\"glove/build/vocab.txt\")"
   ]
  },
  {
   "cell_type": "code",
   "execution_count": 12,
   "metadata": {},
   "outputs": [
    {
     "name": "stderr",
     "output_type": "stream",
     "text": [
      "BUILDING VOCABULARY\n",
      "Processed 0 tokens.100000 tokens.Processed 129989 tokens.\n",
      "Counted 11986 unique words.\n",
      "Truncating vocabulary at min count 5.\n",
      "Using vocabulary of size 3166.\n",
      "\n"
     ]
    }
   ],
   "source": [
    "!\"glove/build/vocab_count\" -min-count 5 -verbose 2 <\"sentences.txt\"> \"glove/build/vocab.txt\""
   ]
  },
  {
   "cell_type": "markdown",
   "metadata": {},
   "source": [
    "**Step 2: Construct Word Co-occurrence Statistics**\n",
    "\n",
    "Run the cooccur executable. There are many optional parameters, but we list the top ones here:\n",
    "1. symmetric: 0 for only looking at left context, 1 (default) for looking at both left and right context\n",
    "2. window-size: number of context words to use (default 15)\n",
    "3. verbose: 0, 1, or 2 (default)\n",
    "4. vocab-file: path/name of the vocabulary file created in Step 1\n",
    "5. memory: soft limit for memory consumption, default 4\n",
    "6. max-product: limit the size of dense co-occurrence array by specifying the max product (integer) of the frequency counts of the two co-occurring words\n",
    "\n",
    "Then provide the path to the text file we created in Step 0 (<\"sentences.txt\">) followed by a file path that we'll save the co-occurrences to (\"glove/build/cooccurrence.bin\")"
   ]
  },
  {
   "cell_type": "code",
   "execution_count": 13,
   "metadata": {},
   "outputs": [
    {
     "name": "stderr",
     "output_type": "stream",
     "text": [
      "COUNTING COOCCURRENCES\n",
      "window size: 15\n",
      "context: symmetric\n",
      "max product: 13752509\n",
      "overflow length: 38028356\n",
      "Reading vocab from file \"glove/build/vocab.txt\"...loaded 3166 words.\n",
      "Building lookup table...table contains 10023557 elements.\n",
      "Processing token: 0100000Processed 129989 tokens.\n",
      "Writing cooccurrences to disk.......2 files in total.\n",
      "Merging cooccurrence files: processed 0 lines.0 lines.100000 lines.200000 lines.300000 lines.Merging cooccurrence files: processed 340325 lines.\n",
      "\n"
     ]
    }
   ],
   "source": [
    "!\"glove/build/cooccur\" -memory 4 -vocab-file \"glove/build/vocab.txt\" -verbose 2 -window-size 15 <\"sentences.txt\"> \"glove/build/cooccurrence.bin\""
   ]
  },
  {
   "cell_type": "markdown",
   "metadata": {},
   "source": [
    "**Step 3: Shuffle the Co-occurrences**\n",
    "\n",
    "Run the shuffle executable. The parameters are as follows:\n",
    "1. verbose: 0, 1, or 2 (default)\n",
    "2. memory: soft limit for memory consumption, default 4\n",
    "3. array-size: limit to the length of the buffer which stores chunks of data to shuffle before writing to disk\n",
    "\n",
    "Then provide the path to the co-occurrence file we created in Step 2 (<\"glove/build/cooccurrence.bin\">) followed by a file path that we'll save the shuffled co-occurrences to (\"glove/build/cooccurrence.shuf.bin\")"
   ]
  },
  {
   "cell_type": "code",
   "execution_count": 14,
   "metadata": {},
   "outputs": [
    {
     "name": "stderr",
     "output_type": "stream",
     "text": [
      "SHUFFLING COOCCURRENCES\n",
      "array size: 255013683\n",
      "Shuffling by chunks: processed 0 lines.processed 340325 lines.\n",
      "Wrote 1 temporary file(s).\n",
      "Merging temp files: processed 0 lines.340325 lines.Merging temp files: processed 340325 lines.\n",
      "\n"
     ]
    }
   ],
   "source": [
    "!\"glove/build/shuffle\" -memory 4 -verbose 2 <\"glove/build/cooccurrence.bin\"> \"glove/build/cooccurrence.shuf.bin\""
   ]
  },
  {
   "cell_type": "markdown",
   "metadata": {},
   "source": [
    "**Step 4: Train GloVe model**\n",
    "\n",
    "Run the glove executable. There are many parameter options, but the top ones are listed below:\n",
    "1. verbose: 0, 1, or 2 (default)\n",
    "2. vector-size: dimension of word embeddings (50 is default)\n",
    "3. threads: number threads, default 8\n",
    "4. iter: number of iterations, default 25\n",
    "5. eta: learning rate, default 0.05\n",
    "6. binary: whether to save binary format (0: text = default, 1: binary, 2: both)\n",
    "7. x-max: cutoff for weighting function, default is 100\n",
    "8. vocab-file: file containing vocabulary as produced in Step 1\n",
    "9. save-file: filename to save vectors to \n",
    "10. input-file: filename with co-occurrences as returned from Step 3"
   ]
  },
  {
   "cell_type": "code",
   "execution_count": 15,
   "metadata": {},
   "outputs": [
    {
     "name": "stderr",
     "output_type": "stream",
     "text": [
      "TRAINING MODEL\n",
      "Read 340325 lines.\n",
      "Initializing parameters...done.\n",
      "vector size: 50\n",
      "vocab size: 3166\n",
      "x_max: 10.000000\n",
      "alpha: 0.750000\n",
      "04/29/19 - 01:26.33PM, iter: 001, cost: 0.098453\n",
      "04/29/19 - 01:26.33PM, iter: 002, cost: 0.084751\n",
      "04/29/19 - 01:26.33PM, iter: 003, cost: 0.074604\n",
      "04/29/19 - 01:26.33PM, iter: 004, cost: 0.071038\n",
      "04/29/19 - 01:26.33PM, iter: 005, cost: 0.067709\n",
      "04/29/19 - 01:26.33PM, iter: 006, cost: 0.064181\n",
      "04/29/19 - 01:26.33PM, iter: 007, cost: 0.059996\n",
      "04/29/19 - 01:26.33PM, iter: 008, cost: 0.055268\n",
      "04/29/19 - 01:26.33PM, iter: 009, cost: 0.050708\n",
      "04/29/19 - 01:26.33PM, iter: 010, cost: 0.046754\n",
      "04/29/19 - 01:26.33PM, iter: 011, cost: 0.043402\n",
      "04/29/19 - 01:26.33PM, iter: 012, cost: 0.040575\n",
      "04/29/19 - 01:26.33PM, iter: 013, cost: 0.038056\n",
      "04/29/19 - 01:26.33PM, iter: 014, cost: 0.035843\n",
      "04/29/19 - 01:26.33PM, iter: 015, cost: 0.033807\n"
     ]
    }
   ],
   "source": [
    "!\"glove/build/glove\" -save-file \"glove/build/GloVe_vectors\" -threads 8 -input-file \\\n",
    "\"glove/build/cooccurrence.shuf.bin\" -x-max 10 -iter 15 -vector-size 50 -binary 2 \\\n",
    "-vocab-file \"glove/build/vocab.txt\" -verbose 2"
   ]
  },
  {
   "cell_type": "markdown",
   "metadata": {},
   "source": [
    "### Inspect Word Vectors"
   ]
  },
  {
   "cell_type": "markdown",
   "metadata": {},
   "source": [
    "Like we did above for the word2vec and fastText models, let's now inspect our word embeddings"
   ]
  },
  {
   "cell_type": "code",
   "execution_count": 16,
   "metadata": {},
   "outputs": [],
   "source": [
    "#load in the saved word vectors\n",
    "glove_wv = {}\n",
    "with open(\"glove/build/GloVe_vectors.txt\", encoding='utf-8') as f:\n",
    "    for line in f:\n",
    "        split_line = line.split(\" \")\n",
    "        glove_wv[split_line[0]] = [float(i) for i in split_line[1:]]"
   ]
  },
  {
   "cell_type": "code",
   "execution_count": 17,
   "metadata": {},
   "outputs": [
    {
     "name": "stdout",
     "output_type": "stream",
     "text": [
      "Embedding for apple: [-0.015303, -0.0512, -0.011988, 0.429914, 0.246523, 0.009762, 0.153154, -0.178636, 0.061723, 0.108515, -0.166807, -0.033258, -0.046394, 0.081953, -0.209458, 0.194758, 0.179153, 0.23262, -0.118717, -0.053151, -0.018892, -0.037714, -0.067396, 0.057499, 0.179459, 0.004552, -0.203058, 0.243629, -0.294976, 0.123971, 0.368613, 0.190665, -0.16738, -0.0599, 0.119195, -0.030108, -0.254778, -0.007862, -0.036998, 0.060919, -0.210459, 0.293917, 0.045603, -0.01104, 0.075651, -0.120635, -0.133497, -0.372606, -0.152981, 0.009014]\n",
      "\n",
      "First 30 vocabulary words: ['.', 'a', 'the', 'in', ',', 'is', 'to', 'of', 'and', 'on', 'man', '-', \"'s\", 'with', 'for', 'at', 'woman', 'are', 'that', 'two']\n"
     ]
    }
   ],
   "source": [
    "# 1. Let's see the word embedding for \"apple\" by passing in \"apple\" as the key.\n",
    "print(\"Embedding for apple:\", glove_wv[\"apple\"])\n",
    "\n",
    "# 2. Inspect the model vocabulary by accessing keys of the \"wv.vocab\" attribute. We'll print the first 20 words\n",
    "print(\"\\nFirst 30 vocabulary words:\", list(glove_wv.keys())[:20])"
   ]
  },
  {
   "cell_type": "markdown",
   "metadata": {},
   "source": [
    "# Concluding Remarks\n",
    "\n",
    "In this notebook we have shown how to train word2vec, GloVe, and fastText word embeddings on the STS Benchmark dataset. FastText is typically regarded as the best baseline for word embeddings (see [blog](https://medium.com/huggingface/universal-word-sentence-embeddings-ce48ddc8fc3a)) and is a good place to start when generating word embeddings. Now that we generated word embeddings on our dataset, we could also repeat the baseline-deep-dive notebook using these embeddings (versus the pre-trained ones from the internet). "
   ]
  }
 ],
 "metadata": {
  "kernelspec": {
   "display_name": "Python 3",
   "language": "python",
   "name": "python3"
  },
  "language_info": {
   "codemirror_mode": {
    "name": "ipython",
    "version": 3
   },
   "file_extension": ".py",
   "mimetype": "text/x-python",
   "name": "python",
   "nbconvert_exporter": "python",
   "pygments_lexer": "ipython3",
   "version": "3.6.8"
  }
 },
 "nbformat": 4,
 "nbformat_minor": 2
}
