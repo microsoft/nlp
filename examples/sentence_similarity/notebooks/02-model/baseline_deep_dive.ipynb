{
 "cells": [
  {
   "cell_type": "markdown",
   "metadata": {},
   "source": [
    "# Estimating Baseline Performance"
   ]
  },
  {
   "cell_type": "markdown",
   "metadata": {},
   "source": [
    "### What is a baseline model? \n",
    "\n",
    "Producing a baseline model is crucial for evaluating your model's performance on any machine learning problem. A baseline model is a basic solution that serves as a point of reference for comparing other models to. The baseline model's performance gives us an indication of how much better our models can perform relative to a naive approach. \n",
    "\n",
    "Let's say we are building a sentence similarity model where our training set contains pairs of sentences and we want to predict how similiar these sentences are on a scale from 1-5. We could spend months producing a complex machine learning solution to this problem and ultimately get a mean squared error (MSE) of 0.3. But is this result good or bad? There is no way of knowing without comparing it with some baseline performance. For our baseline model, we could predict the mean sentence similarity of sentence pairs in our training set (called the _zero rule_) and get a MSE of 0.35. So our model is worse than the baseline which indicates that we may want to consider using different features, models, evaluation metrics, etc. It is crucial that the choice of baseline model be tailored to a data science problem based on buisness goals and the specific modeling task."
   ]
  },
  {
   "cell_type": "markdown",
   "metadata": {},
   "source": [
    "### What are good baselines for sentence similarity?\n",
    "\n",
    "For sentence similarity problems, we have two sub-tasks: 1) First, we need to produce a vector representation of each sentence in the sentence pair, known as an **embedding**. 2) Second, we need to compute the similarity between these two sentence embeddings.\n",
    "\n",
    "For producing representations of sentences, there are some common baseline approaches: \n",
    "1. Create word embeddings for each word in a sentence\n",
    "    1. word2vec word embeddings\n",
    "    2. GLoVe word embeddings\n",
    "    3. fastText word embeddings\n",
    "    \n",
    "2. Create sentence embeddings\n",
    "    1. doc2vec document embeddings\n",
    "    2. TF-IDF embeddings \n",
    "\n",
    "Then we have to compare our embeddings to calculate sentence similarity:\n",
    "1. Word Embedding comparison\n",
    "    1. Cosine Similarity (first requires averaging the word embeddings of all words in each sentence)\n",
    "    2. Word Mover's Distance\n",
    "\n",
    "2. Sentence Embedding comparison\n",
    "    1. Cosine Similarity  \n",
    "    \n",
    "The different embedding models and similarity metrics are introduced below."
   ]
  },
  {
   "cell_type": "markdown",
   "metadata": {},
   "source": [
    "# Table of Contents\n",
    "* [Data Loading and Preprocessing](#Data-Loading-and-Preprocessing)\n",
    "    * [Load STS Benchmark Dataset](#Load-STS-Benchmark-Dataset)\n",
    "    - [Preprocess / Tokenize](#Data-Preprocessing-/-Tokenization)\n",
    "    - [Document Frequency Calculation](#Document-Frequency-Calculation)\n",
    "* [Baseline Models](#Baseline-Models)\n",
    "    - [Baseline #1: word2vec and cosine similarity](#Baseline-#1:-Word2vec-Embeddings-with-Cosine-Similarity)\n",
    "    - [Baseline #2: word2vec and Word Mover's Distance](#Baseline-#2:-Word2vec-Embeddings-with-Word-Mover's-Distance)\n",
    "    - [Baseline #3: GloVe and cosine similarity](#Baseline-#3:-GloVe-Embeddings-with-Cosine-Similarity)\n",
    "    * [Baseline #4: GloVe and Word Mover's Distance](#Baseline-#4:-GloVe-Embeddings-with-Word-Mover's-Distance)\n",
    "    - [Baseline #5: fastText and cosine similarity](#Baseline-#5:-fastText-Embeddings-with-Cosine-Similarity)\n",
    "    - [Baseline #6: fastText and Word Mover's Distance](#Baseline-#6:-fastText-Embeddings-with-Word-Mover's-Distance)\n",
    "\n",
    "    * [Baseline #7: TF-IDF and cosine similarity](#Baseline-#7:-TF-IDF-Embeddings-with-Cosine-Similarity)\n",
    "    * [Baseline #8: Doc2vec and cosine similarity](#Baseline-#8:-Doc2vec-Embeddings-with-Cosine-Similarity))\n",
    "\n",
    "* [Comparison of Baseline Models](#Comparison-of-Baseline-Models)"
   ]
  },
  {
   "cell_type": "code",
   "execution_count": 1,
   "metadata": {},
   "outputs": [],
   "source": [
    "#Import Packages\n",
    "import sys\n",
    "import os\n",
    "from collections import Counter\n",
    "import math\n",
    "import numpy as np\n",
    "import scipy\n",
    "from scipy.spatial import distance\n",
    "import gensim\n",
    "from gensim.models.doc2vec import LabeledSentence\n",
    "from gensim.models.doc2vec import TaggedDocument\n",
    "from gensim.models import Doc2Vec\n",
    "from sklearn.feature_extraction.text import TfidfVectorizer\n",
    "import matplotlib.pyplot as plt\n",
    "%matplotlib inline"
   ]
  },
  {
   "cell_type": "markdown",
   "metadata": {},
   "source": [
    "# Data Loading and Preprocessing"
   ]
  },
  {
   "cell_type": "markdown",
   "metadata": {},
   "source": [
    "### Load STS Benchmark Dataset"
   ]
  },
  {
   "cell_type": "markdown",
   "metadata": {},
   "source": [
    "Here we utilize the [STS Benchmark dataset](http://ixa2.si.ehu.es/stswiki/index.php/STSbenchmark#STS_benchmark_dataset_and_companion_dataset) which contains a selection of English datasets that were used in Semantic Textual Similarity (STS) tasks 2012-2017. The datasets include text from image captions, news headlines, and user forums. The dataset contains 8,628 sentence pairs with a human-labeled integer representing the sentences' similarity (ranging from 0, for no meaning overlap, to 5, meaning equivalence)."
   ]
  },
  {
   "cell_type": "code",
   "execution_count": 2,
   "metadata": {},
   "outputs": [],
   "source": [
    "# Set the environment path\n",
    "sys.path.append(\"../../../../\")  \n",
    "# Set the path where you datasets are located\n",
    "BASE_DATA_PATH = \"../../../../data\" \n",
    "\n",
    "from utils_nlp.dataset.preprocess import to_lowercase, to_spacy_tokens\n",
    "from utils_nlp.dataset import stsbenchmark"
   ]
  },
  {
   "cell_type": "code",
   "execution_count": 3,
   "metadata": {
    "scrolled": true
   },
   "outputs": [],
   "source": [
    "# Produce a pandas dataframe for the training and test sets\n",
    "sts_train = stsbenchmark.load_pandas_df(BASE_DATA_PATH, file_split=\"train\")\n",
    "sts_test = stsbenchmark.load_pandas_df(BASE_DATA_PATH, file_split=\"test\")"
   ]
  },
  {
   "cell_type": "code",
   "execution_count": 4,
   "metadata": {},
   "outputs": [
    {
     "name": "stdout",
     "output_type": "stream",
     "text": [
      "Training set has 5749 sentences\n",
      "Testing set has 1379 sentences\n"
     ]
    }
   ],
   "source": [
    "print(\"Training set has {} sentences\".format(len(sts_train)))\n",
    "print(\"Testing set has {} sentences\".format(len(sts_test)))"
   ]
  },
  {
   "cell_type": "code",
   "execution_count": 5,
   "metadata": {},
   "outputs": [
    {
     "data": {
      "text/html": [
       "<div>\n",
       "<style scoped>\n",
       "    .dataframe tbody tr th:only-of-type {\n",
       "        vertical-align: middle;\n",
       "    }\n",
       "\n",
       "    .dataframe tbody tr th {\n",
       "        vertical-align: top;\n",
       "    }\n",
       "\n",
       "    .dataframe thead th {\n",
       "        text-align: right;\n",
       "    }\n",
       "</style>\n",
       "<table border=\"1\" class=\"dataframe\">\n",
       "  <thead>\n",
       "    <tr style=\"text-align: right;\">\n",
       "      <th></th>\n",
       "      <th>score</th>\n",
       "      <th>sentence1</th>\n",
       "      <th>sentence2</th>\n",
       "    </tr>\n",
       "  </thead>\n",
       "  <tbody>\n",
       "    <tr>\n",
       "      <th>0</th>\n",
       "      <td>2.500</td>\n",
       "      <td>A girl is styling her hair.</td>\n",
       "      <td>A girl is brushing her hair.</td>\n",
       "    </tr>\n",
       "    <tr>\n",
       "      <th>1</th>\n",
       "      <td>3.600</td>\n",
       "      <td>A group of men play soccer on the beach.</td>\n",
       "      <td>A group of boys are playing soccer on the beach.</td>\n",
       "    </tr>\n",
       "    <tr>\n",
       "      <th>2</th>\n",
       "      <td>5.000</td>\n",
       "      <td>One woman is measuring another woman's ankle.</td>\n",
       "      <td>A woman measures another woman's ankle.</td>\n",
       "    </tr>\n",
       "    <tr>\n",
       "      <th>3</th>\n",
       "      <td>4.200</td>\n",
       "      <td>A man is cutting up a cucumber.</td>\n",
       "      <td>A man is slicing a cucumber.</td>\n",
       "    </tr>\n",
       "    <tr>\n",
       "      <th>4</th>\n",
       "      <td>1.500</td>\n",
       "      <td>A man is playing a harp.</td>\n",
       "      <td>A man is playing a keyboard.</td>\n",
       "    </tr>\n",
       "    <tr>\n",
       "      <th>5</th>\n",
       "      <td>1.800</td>\n",
       "      <td>A woman is cutting onions.</td>\n",
       "      <td>A woman is cutting tofu.</td>\n",
       "    </tr>\n",
       "    <tr>\n",
       "      <th>6</th>\n",
       "      <td>3.500</td>\n",
       "      <td>A man is riding an electric bicycle.</td>\n",
       "      <td>A man is riding a bicycle.</td>\n",
       "    </tr>\n",
       "    <tr>\n",
       "      <th>7</th>\n",
       "      <td>2.200</td>\n",
       "      <td>A man is playing the drums.</td>\n",
       "      <td>A man is playing the guitar.</td>\n",
       "    </tr>\n",
       "    <tr>\n",
       "      <th>8</th>\n",
       "      <td>2.200</td>\n",
       "      <td>A man is playing guitar.</td>\n",
       "      <td>A lady is playing the guitar.</td>\n",
       "    </tr>\n",
       "    <tr>\n",
       "      <th>9</th>\n",
       "      <td>1.714</td>\n",
       "      <td>A man is playing a guitar.</td>\n",
       "      <td>A man is playing a trumpet.</td>\n",
       "    </tr>\n",
       "  </tbody>\n",
       "</table>\n",
       "</div>"
      ],
      "text/plain": [
       "   score                                      sentence1  \\\n",
       "0  2.500                    A girl is styling her hair.   \n",
       "1  3.600       A group of men play soccer on the beach.   \n",
       "2  5.000  One woman is measuring another woman's ankle.   \n",
       "3  4.200                A man is cutting up a cucumber.   \n",
       "4  1.500                       A man is playing a harp.   \n",
       "5  1.800                     A woman is cutting onions.   \n",
       "6  3.500           A man is riding an electric bicycle.   \n",
       "7  2.200                    A man is playing the drums.   \n",
       "8  2.200                       A man is playing guitar.   \n",
       "9  1.714                     A man is playing a guitar.   \n",
       "\n",
       "                                          sentence2  \n",
       "0                      A girl is brushing her hair.  \n",
       "1  A group of boys are playing soccer on the beach.  \n",
       "2           A woman measures another woman's ankle.  \n",
       "3                      A man is slicing a cucumber.  \n",
       "4                      A man is playing a keyboard.  \n",
       "5                          A woman is cutting tofu.  \n",
       "6                        A man is riding a bicycle.  \n",
       "7                      A man is playing the guitar.  \n",
       "8                     A lady is playing the guitar.  \n",
       "9                       A man is playing a trumpet.  "
      ]
     },
     "execution_count": 5,
     "metadata": {},
     "output_type": "execute_result"
    }
   ],
   "source": [
    "sts_test.head(10)"
   ]
  },
  {
   "cell_type": "markdown",
   "metadata": {},
   "source": [
    "### Data Preprocessing / Tokenization"
   ]
  },
  {
   "cell_type": "markdown",
   "metadata": {},
   "source": [
    "Our baseline models will expect that each sentence is represented by a list of **tokens**. Tokens are linguistic units like words, punctuation marks, numbers, etc. We'll use our util functions which utilize the spaCy package, a popular package for performing tokenization."
   ]
  },
  {
   "cell_type": "markdown",
   "metadata": {},
   "source": [
    "It's also common to remove high-frequency words which do not help distinguish one sentence from another, so called **stop words**. For example, \"the\", \"and\", \"a\", etc. are typical stop words although each tokenization package may differ in the words they consider to be stop words. We'll tokenize our corpus with and without stop words so that we can compare our methods with and without stop words."
   ]
  },
  {
   "cell_type": "code",
   "execution_count": 6,
   "metadata": {},
   "outputs": [],
   "source": [
    "from utils_nlp.dataset.preprocess import (\n",
    "    to_lowercase,\n",
    "    to_spacy_tokens,\n",
    "    rm_spacy_stopwords,\n",
    ")"
   ]
  },
  {
   "cell_type": "markdown",
   "metadata": {},
   "source": [
    "#### Training Set Preprocessing"
   ]
  },
  {
   "cell_type": "code",
   "execution_count": 7,
   "metadata": {},
   "outputs": [],
   "source": [
    "# Convert all text to lowercase\n",
    "df_low = to_lowercase(sts_train)  \n",
    "# Tokenize text\n",
    "sts_tokenize = to_spacy_tokens(df_low) \n",
    "# Tokenize with removal of stopwords\n",
    "sts_train_stop = rm_spacy_stopwords(sts_tokenize) "
   ]
  },
  {
   "cell_type": "markdown",
   "metadata": {},
   "source": [
    "Now each row in our dataframe contains:  \n",
    "- The similarity score of the sentence pair\n",
    "- The 2 original sentences from our datasets  \n",
    "- A column for each sentence's tokenization with stop words  \n",
    "- A column for each sentence's tokenization without stop words"
   ]
  },
  {
   "cell_type": "code",
   "execution_count": 8,
   "metadata": {},
   "outputs": [
    {
     "data": {
      "text/html": [
       "<div>\n",
       "<style scoped>\n",
       "    .dataframe tbody tr th:only-of-type {\n",
       "        vertical-align: middle;\n",
       "    }\n",
       "\n",
       "    .dataframe tbody tr th {\n",
       "        vertical-align: top;\n",
       "    }\n",
       "\n",
       "    .dataframe thead th {\n",
       "        text-align: right;\n",
       "    }\n",
       "</style>\n",
       "<table border=\"1\" class=\"dataframe\">\n",
       "  <thead>\n",
       "    <tr style=\"text-align: right;\">\n",
       "      <th></th>\n",
       "      <th>score</th>\n",
       "      <th>sentence1</th>\n",
       "      <th>sentence2</th>\n",
       "      <th>sentence1_tokens</th>\n",
       "      <th>sentence2_tokens</th>\n",
       "      <th>sentence1_tokens_rm_stopwords</th>\n",
       "      <th>sentence2_tokens_rm_stopwords</th>\n",
       "    </tr>\n",
       "  </thead>\n",
       "  <tbody>\n",
       "    <tr>\n",
       "      <th>0</th>\n",
       "      <td>5.00</td>\n",
       "      <td>a plane is taking off.</td>\n",
       "      <td>an air plane is taking off.</td>\n",
       "      <td>[a, plane, is, taking, off, .]</td>\n",
       "      <td>[an, air, plane, is, taking, off, .]</td>\n",
       "      <td>[plane, taking, .]</td>\n",
       "      <td>[air, plane, taking, .]</td>\n",
       "    </tr>\n",
       "    <tr>\n",
       "      <th>1</th>\n",
       "      <td>3.80</td>\n",
       "      <td>a man is playing a large flute.</td>\n",
       "      <td>a man is playing a flute.</td>\n",
       "      <td>[a, man, is, playing, a, large, flute, .]</td>\n",
       "      <td>[a, man, is, playing, a, flute, .]</td>\n",
       "      <td>[man, playing, large, flute, .]</td>\n",
       "      <td>[man, playing, flute, .]</td>\n",
       "    </tr>\n",
       "    <tr>\n",
       "      <th>2</th>\n",
       "      <td>3.80</td>\n",
       "      <td>a man is spreading shreded cheese on a pizza.</td>\n",
       "      <td>a man is spreading shredded cheese on an uncoo...</td>\n",
       "      <td>[a, man, is, spreading, shreded, cheese, on, a...</td>\n",
       "      <td>[a, man, is, spreading, shredded, cheese, on, ...</td>\n",
       "      <td>[man, spreading, shreded, cheese, pizza, .]</td>\n",
       "      <td>[man, spreading, shredded, cheese, uncooked, p...</td>\n",
       "    </tr>\n",
       "    <tr>\n",
       "      <th>3</th>\n",
       "      <td>2.60</td>\n",
       "      <td>three men are playing chess.</td>\n",
       "      <td>two men are playing chess.</td>\n",
       "      <td>[three, men, are, playing, chess, .]</td>\n",
       "      <td>[two, men, are, playing, chess, .]</td>\n",
       "      <td>[men, playing, chess, .]</td>\n",
       "      <td>[men, playing, chess, .]</td>\n",
       "    </tr>\n",
       "    <tr>\n",
       "      <th>4</th>\n",
       "      <td>4.25</td>\n",
       "      <td>a man is playing the cello.</td>\n",
       "      <td>a man seated is playing the cello.</td>\n",
       "      <td>[a, man, is, playing, the, cello, .]</td>\n",
       "      <td>[a, man, seated, is, playing, the, cello, .]</td>\n",
       "      <td>[man, playing, cello, .]</td>\n",
       "      <td>[man, seated, playing, cello, .]</td>\n",
       "    </tr>\n",
       "  </tbody>\n",
       "</table>\n",
       "</div>"
      ],
      "text/plain": [
       "   score                                      sentence1  \\\n",
       "0   5.00                         a plane is taking off.   \n",
       "1   3.80                a man is playing a large flute.   \n",
       "2   3.80  a man is spreading shreded cheese on a pizza.   \n",
       "3   2.60                   three men are playing chess.   \n",
       "4   4.25                    a man is playing the cello.   \n",
       "\n",
       "                                           sentence2  \\\n",
       "0                        an air plane is taking off.   \n",
       "1                          a man is playing a flute.   \n",
       "2  a man is spreading shredded cheese on an uncoo...   \n",
       "3                         two men are playing chess.   \n",
       "4                 a man seated is playing the cello.   \n",
       "\n",
       "                                    sentence1_tokens  \\\n",
       "0                     [a, plane, is, taking, off, .]   \n",
       "1          [a, man, is, playing, a, large, flute, .]   \n",
       "2  [a, man, is, spreading, shreded, cheese, on, a...   \n",
       "3               [three, men, are, playing, chess, .]   \n",
       "4               [a, man, is, playing, the, cello, .]   \n",
       "\n",
       "                                    sentence2_tokens  \\\n",
       "0               [an, air, plane, is, taking, off, .]   \n",
       "1                 [a, man, is, playing, a, flute, .]   \n",
       "2  [a, man, is, spreading, shredded, cheese, on, ...   \n",
       "3                 [two, men, are, playing, chess, .]   \n",
       "4       [a, man, seated, is, playing, the, cello, .]   \n",
       "\n",
       "                 sentence1_tokens_rm_stopwords  \\\n",
       "0                           [plane, taking, .]   \n",
       "1              [man, playing, large, flute, .]   \n",
       "2  [man, spreading, shreded, cheese, pizza, .]   \n",
       "3                     [men, playing, chess, .]   \n",
       "4                     [man, playing, cello, .]   \n",
       "\n",
       "                       sentence2_tokens_rm_stopwords  \n",
       "0                            [air, plane, taking, .]  \n",
       "1                           [man, playing, flute, .]  \n",
       "2  [man, spreading, shredded, cheese, uncooked, p...  \n",
       "3                           [men, playing, chess, .]  \n",
       "4                   [man, seated, playing, cello, .]  "
      ]
     },
     "execution_count": 8,
     "metadata": {},
     "output_type": "execute_result"
    }
   ],
   "source": [
    "sts_train_stop.head(5)"
   ]
  },
  {
   "cell_type": "markdown",
   "metadata": {},
   "source": [
    "#### Test Set Preprocessing"
   ]
  },
  {
   "cell_type": "code",
   "execution_count": 9,
   "metadata": {},
   "outputs": [],
   "source": [
    "# Convert all text to lowercase\n",
    "df_low = to_lowercase(sts_test)\n",
    "# Tokenize text\n",
    "sts_tokenize = to_spacy_tokens(df_low)\n",
    "# Tokenize with removal of stopwords\n",
    "sts_test_stop = rm_spacy_stopwords(sts_tokenize)"
   ]
  },
  {
   "cell_type": "markdown",
   "metadata": {},
   "source": [
    "### Document Frequency Calculation"
   ]
  },
  {
   "cell_type": "markdown",
   "metadata": {},
   "source": [
    "Many baseline models we explore will require calculation of how frequently a word appears in our corpus. To calculate this, we iterate through the sentences in our training set and count the number of sentences that contain each word. There are other ways to produce this calculation, including pulling larger datasets from the web (like Wikipedia data) and calculating the frequencies on that data. Note that \"document\" refers to some larger chunk of multiple tokens/words. In our case, our documents will actually be individual sentences. "
   ]
  },
  {
   "cell_type": "code",
   "execution_count": 10,
   "metadata": {},
   "outputs": [],
   "source": [
    "def get_document_frequency(df):\n",
    "    \"\"\"Iterate through all sentences in dataframe and create a dictionary \n",
    "    mapping tokens to the number of sentences in our corpus they appear in\n",
    "    \n",
    "    Args:\n",
    "        df (pandas dataframe): dataframe of sentence pairs with their similarity scores\n",
    "        \n",
    "    Returns:\n",
    "        document_frequency_dict (dictionary): mapping from tokens to number of sentences they appear in\n",
    "        n (int): number of sentences in the corpus\n",
    "    \"\"\"\n",
    "    document_frequency_dict = {}\n",
    "    all_sentences =  df[[\"sentence1_tokens\", \"sentence2_tokens\"]]\n",
    "    sentences = all_sentences.values.flatten().tolist()\n",
    "    n = len(sentences)\n",
    "\n",
    "    for s in sentences:\n",
    "        for token in set(s):\n",
    "            document_frequency_dict[token] = document_frequency_dict.get(token, 0) + 1\n",
    "\n",
    "    return document_frequency_dict, n"
   ]
  },
  {
   "cell_type": "code",
   "execution_count": 11,
   "metadata": {},
   "outputs": [],
   "source": [
    "# Note that we need to calculate these values on our training set so that we don't \"peek at\" our test set until test time\n",
    "document_frequencies, num_documents = get_document_frequency(sts_train_stop)"
   ]
  },
  {
   "cell_type": "code",
   "execution_count": 12,
   "metadata": {},
   "outputs": [
    {
     "data": {
      "text/plain": [
       "11498"
      ]
     },
     "execution_count": 12,
     "metadata": {},
     "output_type": "execute_result"
    }
   ],
   "source": [
    "num_documents"
   ]
  },
  {
   "cell_type": "markdown",
   "metadata": {},
   "source": [
    "# Baseline Models"
   ]
  },
  {
   "cell_type": "markdown",
   "metadata": {},
   "source": [
    "As we consider each of the baseline models, we'll save all model predictions in a dictionary and will evaluate the results at the end of this notebook."
   ]
  },
  {
   "cell_type": "code",
   "execution_count": 13,
   "metadata": {},
   "outputs": [],
   "source": [
    "baselines = {}"
   ]
  },
  {
   "cell_type": "markdown",
   "metadata": {},
   "source": [
    "## Baseline #1: Word2vec Embeddings with Cosine Similarity"
   ]
  },
  {
   "cell_type": "markdown",
   "metadata": {},
   "source": [
    "This baseline first constructs word embeddings using word2vec. Once we have a word embedding (vector) for each word in the sentence, we calculate an embedding for the full sentence by taking the (weighted) average of all the word embeddings. The weights will be calculated using TF-IDF. Lastly, in order to compare the two sentence embeddings we use the cosine similarity metric. "
   ]
  },
  {
   "cell_type": "markdown",
   "metadata": {},
   "source": [
    "### What is Word2Vec?\n",
    "Word2vec is a predictive model for learning word embeddings from text. Word embeddings are learned such that words that share common contexts in the corpus will be close together in the vector space. There are two different model architectures that can be used to produce word2vec embeddings: continuous bag-of-words (CBOW) or continuous skip-gram. The former uses a window of surrounding words (the \"context\") to predict the current word and the latter uses the current word to predict the surrounding context words. See this [tutorial](https://www.guru99.com/word-embedding-word2vec.html#3) on word2vec for more detailed information about the model.\n",
    "\n",
    "For our purposes, we use pretrained word2vec word embeddings. These embeddings were trained on a Google News corpus and provide 300-dimensional embeddings (vectors) for 3 million English words. See this [link](https://code.google.com/archive/p/word2vec/) for the original location of the embeddings and see the code below to load these word embeddings."
   ]
  },
  {
   "cell_type": "code",
   "execution_count": 14,
   "metadata": {},
   "outputs": [
    {
     "name": "stdout",
     "output_type": "stream",
     "text": [
      "Vector file already exists. No changes made.\n"
     ]
    }
   ],
   "source": [
    "from utils_nlp.pretrained_embeddings import word2vec\n",
    "\n",
    "word2vec_model = word2vec.load_pretrained_vectors(dir_path=BASE_DATA_PATH)"
   ]
  },
  {
   "cell_type": "markdown",
   "metadata": {},
   "source": [
    "### What is TF-IDF?\n",
    "\n",
    "TF-IDF or term frequency-inverse document frequency is a weighting scheme intended to measure how important a word is to the document (or sentence in our case) within the broader corpus (our dataset). The weight \"increases proportionally to the number of times a word appears in the document but is offset by the frequency of the word in the corpus\" ([tutorial link](http://www.tfidf.com/)). When we're averaging together many different word vectors to get a sentence embedding, it makes sense to give stronger weights to words that are more distinct relative to the corpus and that have a high frequency in the sentence. The TF-IDF weights capture this intution, with the weight increasing as term frequency increases and/or as the inverse document frequency increases.\n",
    "\n",
    "For a term $t$ in sentence $s$ in corpus $c$, then the TF-IDF weight is \n",
    "$$w_{t,s} = TF_{t,s} * \\log{\\frac{N}{df_t}}$$\n",
    "where:  \n",
    "$TF_{t,s}$ = the number of times term $t$ appears in sentence $s$  \n",
    "$df_t$ = the number of sentences containing term $t$  \n",
    "$N$ = the size of the corpus.  \n",
    "\n",
    "In these baselines, we calculate the TF-IDF weighted average of all the word embeddings. The code below implements this weighted average given a list of tokens and an embedding model."
   ]
  },
  {
   "cell_type": "code",
   "execution_count": 15,
   "metadata": {},
   "outputs": [],
   "source": [
    "def average_sentence_embedding(tokens, embedding_model):\n",
    "    \"\"\"Calculate TF-IDF weighted average embedding for a sentence\n",
    "    \n",
    "    Args:\n",
    "        tokens (list): list of tokens in a sentence\n",
    "        embedding_model: model to use for word embedding (word2vec, glove, fastText, etc.)\n",
    "    \n",
    "    Returns:\n",
    "        list: vector representing the sentence\n",
    "    \"\"\"\n",
    "    # Throw away tokens that are not in the embedding model\n",
    "    tokens = [i for i in tokens if i in embedding_model]\n",
    "\n",
    "    if len(tokens) == 0:\n",
    "        return []\n",
    "\n",
    "    # We will weight by TF-IDF. The TF part is calculated by:\n",
    "    # (# of times term appears / total terms in sentence)\n",
    "    count = Counter(tokens)\n",
    "    token_list = list(count)\n",
    "    term_frequency = [count[i] / len(tokens) for i in token_list]\n",
    "\n",
    "    # Now for the IDF part: LOG(# documents / # documents with term in it)\n",
    "    inv_doc_frequency = [\n",
    "        math.log(num_documents / (document_frequencies.get(i, 0) + 1)) for i in count\n",
    "    ]\n",
    "\n",
    "    # Put the TF-IDF together and produce the weighted average of vector embeddings\n",
    "    word_embeddings = [embedding_model[token] for token in token_list]\n",
    "    weights = [term_frequency[i] * inv_doc_frequency[i] for i in range(len(token_list))]\n",
    "    return list(np.average(word_embeddings, weights=weights, axis=0))"
   ]
  },
  {
   "cell_type": "markdown",
   "metadata": {},
   "source": [
    "### What is Cosine Similarity?\n",
    "\n",
    "Cosine similarity is a common similarity metric between vectors. Intuitively it measures the cosine of the angle between any two vectors. With vectors $a$ and $b$, the cosine similarity is: cosine similarity($a$,$b$) = $\\frac{\\vec{a} \\cdot \\vec{b} }{||\\vec{a}|| ||\\vec{b}||}$\n"
   ]
  },
  {
   "cell_type": "code",
   "execution_count": 16,
   "metadata": {},
   "outputs": [],
   "source": [
    "def calculate_cosine_similarity(embedding1, embedding2):\n",
    "    \"\"\"Calculate cosine similarity between two embedding vectors\n",
    "    \n",
    "    Args:\n",
    "        embedding1 (list): embedding for the first sentence\n",
    "        embedding2 (list): embedding for the second sentence\n",
    "    \n",
    "    Returns:\n",
    "        list: cosine similarity value between the two embeddings\n",
    "    \"\"\"\n",
    "    # distance.cosine calculates cosine DISTANCE, so we need to\n",
    "    # return 1 - distance to get cosine similarity\n",
    "    cosine_similarity = 1 - distance.cosine(embedding1, embedding2)\n",
    "    return cosine_similarity"
   ]
  },
  {
   "cell_type": "markdown",
   "metadata": {},
   "source": [
    "### Get Sentence Similarity Predictions for Test Set"
   ]
  },
  {
   "cell_type": "markdown",
   "metadata": {},
   "source": [
    "Now, we calculate predictions for each sentence pair found in the test set."
   ]
  },
  {
   "cell_type": "code",
   "execution_count": 17,
   "metadata": {},
   "outputs": [],
   "source": [
    "def average_word_embedding_cosine_similarity(df, embedding_model, rm_stopwords=False):\n",
    "    \"\"\"Calculate the cosine similarity between TF-IDF weighted averaged embeddings\n",
    "    \n",
    "    Args:\n",
    "        df (pandas dataframe): dataframe as provided by the nlp_utils\n",
    "        embedding_model: word embedding model\n",
    "        rm_stopwords (bool): whether to remove stop words (True) or not (False)\n",
    "    \n",
    "    Returns:\n",
    "        list: predicted values for sentence similarity of test set examples\n",
    "    \"\"\"\n",
    "    if rm_stopwords:\n",
    "        df['sentence1_embedding'] = df.apply(lambda x: average_sentence_embedding(x.sentence1_tokens_rm_stopwords, embedding_model), axis=1)\n",
    "        df['sentence2_embedding'] = df.apply(lambda x: average_sentence_embedding(x.sentence2_tokens_rm_stopwords, embedding_model), axis=1)\n",
    "    else:\n",
    "        df['sentence1_embedding'] = df.apply(lambda x: average_sentence_embedding(x.sentence1_tokens, embedding_model), axis=1)\n",
    "        df['sentence2_embedding'] = df.apply(lambda x: average_sentence_embedding(x.sentence2_tokens, embedding_model), axis=1)\n",
    "\n",
    "    df['predictions'] = df.apply(lambda x: calculate_cosine_similarity(x.sentence1_embedding, x.sentence2_embedding) if \n",
    "                                 (sum(x.sentence1_embedding) != 0 and sum(x.sentence2_embedding) != 0) else 0, axis=1)\n",
    "    \n",
    "    return df['predictions'].tolist()"
   ]
  },
  {
   "cell_type": "code",
   "execution_count": 18,
   "metadata": {},
   "outputs": [],
   "source": [
    "# Get predictions using average word2vec embeddings both with and without stop words\n",
    "baselines[\"Word2vec Cosine\"] = average_word_embedding_cosine_similarity(\n",
    "    sts_test_stop, word2vec_model, rm_stopwords=True\n",
    ")\n",
    "baselines[\"Word2vec Cosine with Stop Words\"] = average_word_embedding_cosine_similarity(\n",
    "    sts_test_stop, word2vec_model, rm_stopwords=False\n",
    ")"
   ]
  },
  {
   "cell_type": "markdown",
   "metadata": {},
   "source": [
    "## Baseline #2: Word2vec Embeddings with Word Mover's Distance "
   ]
  },
  {
   "cell_type": "markdown",
   "metadata": {},
   "source": [
    "This baseline first constructs word embeddings using word2vec (for an introduction to word2vec, see [Background on Word2Vec](#What-is-Word2Vec?)). Then all the word embeddings are used to calculate sentence similarity using the word mover's distance.  "
   ]
  },
  {
   "cell_type": "markdown",
   "metadata": {},
   "source": [
    "### What is Word Mover's Distance (WMD)?\n",
    "Word Mover's Distance (WMD) is a metric that \"adapts the earth mover’s distance to the space of documents: the distance between two texts is given by the total amount of “mass” needed to move the words from one side into the other, multiplied by the distance the words need to move.\" We'll utilize word2vec's implementation of word mover's distance. See this [blog](http://vene.ro/blog/word-movers-distance-in-python.html) for additional information about this similarity measure."
   ]
  },
  {
   "cell_type": "markdown",
   "metadata": {},
   "source": [
    "### Get Sentence Similarity Predictions for Test Set"
   ]
  },
  {
   "cell_type": "markdown",
   "metadata": {},
   "source": [
    "Now, we calculate predictions for each of sentence pairs found in the test set."
   ]
  },
  {
   "cell_type": "code",
   "execution_count": 19,
   "metadata": {},
   "outputs": [],
   "source": [
    "def word_embedding_WMD(df, embedding_model, rm_stopwords=False):\n",
    "    \"\"\"Calculate Word Mover's Distance between two sentences using embeddings\n",
    "    \n",
    "    Args:\n",
    "        df (pandas dataframe): dataframe as provided by the nlp_utils\n",
    "        embedding_model (gensim model): word embedding model\n",
    "        rm_stopwords (bool): whether to remove stop words (True) or not (False)\n",
    "    \n",
    "    Returns:\n",
    "        list: predicted values for sentence similarity of test set examples\n",
    "    \"\"\"\n",
    "    if rm_stopwords:\n",
    "        df['sentence1_cleaned'] = df.apply(lambda x: [i for i in x.sentence1_tokens_rm_stopwords if i in embedding_model], axis=1)\n",
    "        df['sentence2_cleaned'] = df.apply(lambda x: [i for i in x.sentence2_tokens_rm_stopwords if i in embedding_model], axis=1)\n",
    "    else:\n",
    "        df['sentence1_cleaned'] = df.apply(lambda x: [i for i in x.sentence1_tokens if i in embedding_model], axis=1)\n",
    "        df['sentence2_cleaned'] = df.apply(lambda x: [i for i in x.sentence2_tokens if i in embedding_model], axis=1)\n",
    "\n",
    "    # wmdistance takes the raw tokens and performs the word2vec embedding itself\n",
    "    df['predictions'] = df.apply(lambda x: -embedding_model.wmdistance(x.sentence1_cleaned, x.sentence2_cleaned) if \n",
    "                                 (len(x.sentence1_cleaned) != 0 and len(x.sentence2_cleaned) != 0) else 0, axis=1)\n",
    "    \n",
    "    return df['predictions'].tolist()"
   ]
  },
  {
   "cell_type": "code",
   "execution_count": 20,
   "metadata": {},
   "outputs": [],
   "source": [
    "# Get predictions using word2vec embeddings and WMD both with and without stop words\n",
    "baselines[\"Word2vec WMD\"] = word_embedding_WMD(sts_test_stop, word2vec_model, rm_stopwords=True)\n",
    "baselines[\"Word2vec WMD with Stop Words\"] = word_embedding_WMD(\n",
    "    sts_test_stop, word2vec_model, rm_stopwords=False\n",
    ")"
   ]
  },
  {
   "cell_type": "markdown",
   "metadata": {},
   "source": [
    "## Baseline #3: GloVe Embeddings with Cosine Similarity"
   ]
  },
  {
   "cell_type": "markdown",
   "metadata": {},
   "source": [
    "This baseline first constructs word embeddings using GloVE. Once we have a word embedding (vector) for each word in the sentence, we calculate an embedding for the full sentence by taking the (weighted) average of all the word embeddings. The weights will be calculated using TF-IDF. Lastly, in order to compare the two sentence embeddings we use the cosine similarity metric (for an introduction to the cosine similarity metric, see [Background on Cosine Similarity](#What-is-Cosine-Similarity?)). "
   ]
  },
  {
   "cell_type": "markdown",
   "metadata": {},
   "source": [
    "### What is GloVe?\n",
    "GloVe is an unsupervised algorithm for obtaining word embeddings. Training occurs on word-word co-occurrence statistics with the objective of learning word embeddings such that the dot product of two words' embeddings is equal to the words' probability of co-occurrence. See this [tutorial](https://nlp.stanford.edu/projects/glove/) on GloVe for more detailed background on the model. For our purposes, we use pretrained GloVe word embeddings (glove.840B.300d.zip which can be found through the above link). These embeddings were trained on Common Crawl data and provide 300-dimensional embeddings (vectors) for 2.2 million English words. Below is the code to load in the GloVe embeddings."
   ]
  },
  {
   "cell_type": "code",
   "execution_count": 21,
   "metadata": {},
   "outputs": [
    {
     "name": "stdout",
     "output_type": "stream",
     "text": [
      "Vector file already exists. No changes made.\n"
     ]
    }
   ],
   "source": [
    "from utils_nlp.pretrained_embeddings import glove\n",
    "\n",
    "glove_model = glove.load_pretrained_vectors(dir_path=BASE_DATA_PATH)"
   ]
  },
  {
   "cell_type": "code",
   "execution_count": 22,
   "metadata": {},
   "outputs": [],
   "source": [
    "# Get predictions using GloVe embeddings and cosine similarity both with and without stop words\n",
    "baselines[\"GLoVe Cosine\"] = average_word_embedding_cosine_similarity(\n",
    "    sts_test_stop, glove_model, rm_stopwords=True\n",
    ")\n",
    "baselines[\"GLoVe Cosine with Stop Words\"] = average_word_embedding_cosine_similarity(\n",
    "    sts_test_stop, glove_model, rm_stopwords=False\n",
    ")"
   ]
  },
  {
   "cell_type": "markdown",
   "metadata": {},
   "source": [
    "## Baseline #4: GloVe Embeddings with Word Mover's Distance"
   ]
  },
  {
   "cell_type": "markdown",
   "metadata": {},
   "source": [
    "This baseline first constructs word embeddings using GloVe (for an introduction on GloVe, see [Background on GloVe](#What-is-GloVe?)). Then all the word embeddings are used to calculate sentence similarity using the word mover's distance (for an introduction to WMD, see [Background on Word Mover's Distance](#What-is-Word-Mover's-Distance-(WMD)?)).  "
   ]
  },
  {
   "cell_type": "code",
   "execution_count": 23,
   "metadata": {},
   "outputs": [],
   "source": [
    "# Get predictions using GloVe embeddings and WMD both with and without stop words\n",
    "baselines[\"GLoVe WMD\"] = word_embedding_WMD(sts_test_stop, glove_model, rm_stopwords=True)\n",
    "baselines[\"GLoVe WMD with Stop Words\"] = word_embedding_WMD(\n",
    "    sts_test_stop, glove_model, rm_stopwords=False\n",
    ")"
   ]
  },
  {
   "cell_type": "markdown",
   "metadata": {},
   "source": [
    "## Baseline #5: fastText Embeddings with Cosine Similarity"
   ]
  },
  {
   "cell_type": "markdown",
   "metadata": {},
   "source": [
    "This baseline first constructs word embeddings using fastText. Once we have a word embedding (vector) for each word in the sentence, we calculate an embedding for the full sentence by taking the (weighted) average of all the word embeddings. The weights will be calculated using TF-IDF. Lastly, in order to compare the two sentence embeddings we use the cosine similarity metric (for an introduction to the cosine similarity metric, see [Background on Cosine Similarity](#What-is-Cosine-Similarity?)). "
   ]
  },
  {
   "cell_type": "markdown",
   "metadata": {},
   "source": [
    "### What is fastText?"
   ]
  },
  {
   "cell_type": "markdown",
   "metadata": {},
   "source": [
    "fastText is an unsupervised algorithm created by Facebook Research for efficiently learning word embeddings. fastText is significantly different than word2vec or GloVe in that these two algorithms we saw earlier treat each word as the smallest possible unit to find an embedding for. Conversely, fastText assumes that words are formed by an n-gram of characters (i.e. 2-grams of the word \"language\" would be {la, an, ng, gu, ua, ag, ge}). The embedding for a word is then composed of the sum of these character n-grams. This has advantages when finding word embeddings for rare words and words not present in the dictionary, as these words can still be broken down into character n-grams. Typically, for smaller datasets, fastText performs better than word2vec or GloVe. See this [tutorial](https://fasttext.cc/docs/en/unsupervised-tutorial.html) on fastText for more detail. We will use the pretrained word embeddings for the English language (wiki.en.bin; these embeddings as well as embeddings for 156 other languages can be found [here](https://fasttext.cc/docs/en/english-vectors.html)). These are 300-dimensional embeddings (vectors) trained on Wikipedia data."
   ]
  },
  {
   "cell_type": "code",
   "execution_count": 24,
   "metadata": {},
   "outputs": [],
   "source": [
    "# This cell will be replaced with the loader than Abhiram is writing\n",
    "fastText_model = gensim.models.fasttext.load_facebook_model(\"wiki.en\\wiki.en.bin\")\n",
    "fastText = fastText_model.wv  # get word vectors"
   ]
  },
  {
   "cell_type": "code",
   "execution_count": 25,
   "metadata": {},
   "outputs": [],
   "source": [
    "# Get predictions using fastText embeddings and cosine similarity both with and without stop words\n",
    "baselines[\"fastText Cosine\"] = average_word_embedding_cosine_similarity(\n",
    "    sts_test_stop, fastText, rm_stopwords=True\n",
    ")\n",
    "baselines[\"fastText Cosine with Stop Words\"] = average_word_embedding_cosine_similarity(\n",
    "    sts_test_stop, fastText, rm_stopwords=False\n",
    ")"
   ]
  },
  {
   "cell_type": "markdown",
   "metadata": {},
   "source": [
    "## Baseline #6: fastText Embeddings with Word Mover's Distance"
   ]
  },
  {
   "cell_type": "code",
   "execution_count": 26,
   "metadata": {},
   "outputs": [],
   "source": [
    "# Get predictions using fastText embeddings and WMD both with and without stop words\n",
    "baselines[\"fastText WMD\"] = word_embedding_WMD(sts_test_stop, fastText, rm_stopwords=True)\n",
    "baselines[\"fastText WMD with Stop Words\"] = word_embedding_WMD(\n",
    "    sts_test_stop, fastText, rm_stopwords=False\n",
    ")"
   ]
  },
  {
   "cell_type": "markdown",
   "metadata": {},
   "source": [
    "## Baseline #7: TF-IDF Embeddings with Cosine Similarity"
   ]
  },
  {
   "cell_type": "markdown",
   "metadata": {},
   "source": [
    "This baseline first constructs a document embedding based on bag-of-words with TF-IDF weighting (for an introduction to TF-IDF, see [Background on TF-IDF](#What-is-TF-IDF?). Then we apply cosine similarity between the two embeddings in the sentence pair (for an introduction to the cosine similarity metric, see [Background on Cosine Similarity](#What-is-Cosine-Similarity?))."
   ]
  },
  {
   "cell_type": "markdown",
   "metadata": {},
   "source": [
    "### Bag-of-Words\n",
    "\n",
    "The most basic approach for document embeddings is called Bag-of-Words. This method first determines the vocabulary across the entire corpus and then, for each document, creates a vector containing the number of times each vocabulary word appeared in the given document. These vectors are obviously very sparse and typical bag-of-words implementations ignore terms whose document frequency is less than some threshold in order to reduce sparsity. We also often ignore stop words as they add little semantic information. "
   ]
  },
  {
   "cell_type": "code",
   "execution_count": 27,
   "metadata": {},
   "outputs": [],
   "source": [
    "def tfidf_cosine_similarity(df, rm_stopwords=False):\n",
    "    \"\"\"Calculate cosine similarity between TF-IDF document embeddings\n",
    "    \n",
    "    Args:\n",
    "        df (pandas dataframe): dataframe as provided by the nlp_utils\n",
    "        rm_stopwords (bool): whether to remove stop words (True) or not (False)\n",
    "    \n",
    "    Returns:\n",
    "        list: predicted values for sentence similarity of test set examples\n",
    "    \"\"\"\n",
    "    stop_word_param = 'english' if rm_stopwords else None\n",
    "    \n",
    "    tf = TfidfVectorizer(\n",
    "        input=\"content\",\n",
    "        analyzer=\"word\",\n",
    "        min_df=0,\n",
    "        stop_words=stop_word_param,\n",
    "        sublinear_tf=True,\n",
    "    )\n",
    "\n",
    "    all_sentences =  df[[\"sentence1\", \"sentence2\"]]\n",
    "    corpus = all_sentences.values.flatten().tolist()\n",
    "    tfidf_matrix = np.array(tf.fit_transform(corpus).todense())\n",
    "    \n",
    "    df['sentence1_tfidf'] = df.apply(lambda x: tfidf_matrix[2*x.name,:], axis=1)\n",
    "    df['sentence2_tfidf'] = df.apply(lambda x: tfidf_matrix[2*x.name+1,:], axis=1)\n",
    "    df['predictions'] = df.apply(lambda x: calculate_cosine_similarity(x.sentence1_tfidf, x.sentence2_tfidf) if \n",
    "                                 (sum(x.sentence1_tfidf) != 0 and sum(x.sentence2_tfidf) != 0) else 0,axis=1)\n",
    "    return df['predictions'].tolist()"
   ]
  },
  {
   "cell_type": "code",
   "execution_count": 28,
   "metadata": {
    "scrolled": true
   },
   "outputs": [],
   "source": [
    "baselines[\"TF-IDF Cosine\"] = tfidf_cosine_similarity(sts_test_stop, rm_stopwords=True)\n",
    "baselines[\"TF-IDF Cosine with Stop Words\"] = tfidf_cosine_similarity(\n",
    "    sts_test_stop, rm_stopwords=False\n",
    ")"
   ]
  },
  {
   "cell_type": "markdown",
   "metadata": {},
   "source": [
    "## Baseline #8: Doc2vec Embeddings with Cosine Similarity"
   ]
  },
  {
   "cell_type": "markdown",
   "metadata": {},
   "source": [
    "This baseline constructs document embeddings using doc2vec and then applies cosine similarity to measure each sentence pair's similarity (for an introduction to the cosine similarity metric, see [Background on Cosine Similarity](#What-is-Cosine-Similarity?))."
   ]
  },
  {
   "cell_type": "markdown",
   "metadata": {},
   "source": [
    "### What is Doc2Vec?\n",
    "\n",
    "Doc2vec is an extension of word2vec which produces embeddings of a document. Note that \"document\" refers to some larger chunk of multiple tokens/words. In our case, our documents will actually be individual setntences. The algorithm not only exploits the idea of context words (like in word2vec), but also incorporates the context of the document. There are again two model architectures that parallel those of word2vec: Paragraph Vectors Distributed Memory (PV-DM) and Paragraph Vectors Distributed Bag-of-Words (PV-DBOW). PV-DM randomly samples consecutive words in a paragraph and predicts a center word by utilizing the context words and the paragraph id. PV-DBOW takes a paragraph id and uses it to predict words in the context. \n",
    "\n",
    "See [tutorial #1](https://kanoki.org/2019/03/07/sentence-similarity-in-python-using-doc2vec/) or [tutorial #2](https://gab41.lab41.org/doc2vec-to-assess-semantic-similarity-in-source-code-667acb3e62d7) for more information and an example of using Doc2vec for sentence similarity."
   ]
  },
  {
   "cell_type": "code",
   "execution_count": 29,
   "metadata": {},
   "outputs": [],
   "source": [
    "# Doc2vec requires unique ids for each sentence, so we'll iterate \n",
    "# through our dataframe, adding a new ID column\n",
    "\n",
    "all_sentences =  sts_test_stop[[\"sentence1\", \"sentence2\"]]\n",
    "corpus = all_sentences.values.flatten().tolist()\n",
    "# Produce dictionary of sentence to id\n",
    "sentence_id = {sent: i for i, sent in enumerate(set(corpus))}\n",
    "\n",
    "def assign_id(row):\n",
    "    return sentence_id[row]\n",
    "\n",
    "sts_test_stop[\"qid1\"] = sts_test_stop[\"sentence1\"].apply(assign_id)\n",
    "sts_test_stop[\"qid2\"] = sts_test_stop[\"sentence2\"].apply(assign_id)"
   ]
  },
  {
   "cell_type": "code",
   "execution_count": 30,
   "metadata": {},
   "outputs": [],
   "source": [
    "def doc2vec_cosine(df, rm_stopwords=False):\n",
    "    \"\"\"Calculate cosine similarity between each sentence pair using Doc2Vec embeddings\n",
    "    \n",
    "    Args:\n",
    "        df (pandas dataframe): dataframe as provided by the nlp_utils\n",
    "        rm_stopwords (bool): whether to remove stop words (True) or not (False)\n",
    "    \n",
    "    Returns:\n",
    "        list: predicted values for sentence similarity of test set examples\n",
    "    \"\"\"\n",
    "    if rm_stopwords:\n",
    "        df[[\"sentence1_prepped\", \"sentence2_prepped\"]] = df[\n",
    "            [\"sentence1_tokens_rm_stopwords\", \"sentence2_tokens_rm_stopwords\"]\n",
    "        ]\n",
    "    else:\n",
    "        df[[\"sentence1_prepped\", \"sentence2_prepped\"]] = df[\n",
    "            [\"sentence1_tokens\", \"sentence2_tokens\"]\n",
    "        ]\n",
    "\n",
    "    # Doc2vec requires data as Tagged Documents with the tokenized sentence and the sentence id\n",
    "    df[\"labeled_questions1\"] = df.apply(\n",
    "        lambda x: TaggedDocument(x.sentence1_prepped, str(x.qid1)), axis=1\n",
    "    )\n",
    "    df[\"labeled_questions2\"] = df.apply(\n",
    "        lambda x: TaggedDocument(x.sentence2_prepped, str(x.qid2)), axis=1\n",
    "    )\n",
    "\n",
    "    # Get all Tagged Documents\n",
    "    df_labeled_sentences = df[[\"labeled_questions1\", \"labeled_questions2\"]]\n",
    "    labeled_sentences = df_labeled_sentences.values.flatten().tolist()\n",
    "\n",
    "    # instantiate Doc2Vec model\n",
    "    model = Doc2Vec(\n",
    "        labeled_sentences, dm=1, min_count=1, window=5, vector_size=500, epochs=30\n",
    "    )\n",
    "\n",
    "    # Train our model for 20 epochs\n",
    "    for epoch in range(20):\n",
    "        model.train(\n",
    "            labeled_sentences, epochs=model.epochs, total_examples=model.corpus_count\n",
    "        )\n",
    "\n",
    "    df[\"predictions\"] = df.apply(\n",
    "        lambda x: model.wv.n_similarity(x.sentence1_prepped, x.sentence2_prepped)\n",
    "        if (len(x.sentence1_prepped) != 0 and len(x.sentence2_prepped) != 0)\n",
    "        else 0,\n",
    "        axis=1,\n",
    "    )\n",
    "\n",
    "    return df[\"predictions\"].tolist()"
   ]
  },
  {
   "cell_type": "code",
   "execution_count": 31,
   "metadata": {
    "scrolled": true
   },
   "outputs": [],
   "source": [
    "baselines[\"Doc2vec Cosine\"] = doc2vec_cosine(sts_test_stop, rm_stopwords=True)\n",
    "baselines[\"Doc2vec Cosine with Stop Words\"] = doc2vec_cosine(sts_test_stop, rm_stopwords=False)"
   ]
  },
  {
   "cell_type": "markdown",
   "metadata": {},
   "source": [
    "# Comparison of Baseline Models"
   ]
  },
  {
   "cell_type": "markdown",
   "metadata": {},
   "source": [
    "Our evaluation metric is Pearson correlation ($\\rho$) which is a measure of the linear correlation between two variables. The formula for calculating Pearson correlation is as follows:  \n",
    "\n",
    "$$\\rho_{X,Y} = \\frac{E[(X-\\mu_X)(Y-\\mu_Y)]}{\\sigma_X \\sigma_Y}$$\n",
    "\n",
    "This metric takes a value in [-1,1] where -1 represents a perfect negative correlation, 1 represents a perfect positive correlation, and 0 represents no correlation. We utilize the Pearson correlation metric as this is the metric that [SentEval](http://nlpprogress.com/english/semantic_textual_similarity.html), a widely-used evaluation toolkit for evaluation sentence representations, uses for the STS Benchmark dataset."
   ]
  },
  {
   "cell_type": "code",
   "execution_count": 32,
   "metadata": {},
   "outputs": [],
   "source": [
    "def pearson_correlation(df, prediction):\n",
    "    \"\"\"Calculate the Pearson correlation between two vectors\n",
    "    \n",
    "    Args:\n",
    "        df (pandas dataframe): dataframe of sentences and their similarity scores\n",
    "        prediction (list): predicted similarity scores for each value in test set\n",
    "        \n",
    "    Returns:\n",
    "        float: pearson correlation value between the actual and predicted score lists\n",
    "    \"\"\"\n",
    "    pearson_correlation = scipy.stats.pearsonr(prediction, list(df[\"score\"]))[0]\n",
    "    return pearson_correlation"
   ]
  },
  {
   "cell_type": "code",
   "execution_count": 33,
   "metadata": {},
   "outputs": [
    {
     "name": "stdout",
     "output_type": "stream",
     "text": [
      "Word2vec Cosine 0.6337760059182685\n",
      "Word2vec Cosine with Stop Words 0.647674307797345\n",
      "Word2vec WMD 0.6578256301323717\n",
      "Word2vec WMD with Stop Words 0.5697910628727219\n",
      "GLoVe Cosine 0.642064729899729\n",
      "GLoVe Cosine with Stop Words 0.5639670964748242\n",
      "GLoVe WMD 0.6272339050920003\n",
      "GLoVe WMD with Stop Words 0.48560149551724\n",
      "fastText Cosine 0.6288780924569854\n",
      "fastText Cosine with Stop Words 0.5958470751204787\n",
      "fastText WMD 0.5275208457920849\n",
      "fastText WMD with Stop Words 0.44198752510004097\n",
      "TF-IDF Cosine 0.6683811410442564\n",
      "TF-IDF Cosine with Stop Words 0.7034695168223283\n",
      "Doc2vec Cosine 0.4966764353240762\n",
      "Doc2vec Cosine with Stop Words 0.4108292528463587\n"
     ]
    }
   ],
   "source": [
    "# Get metrics on predictions from all models\n",
    "for model in baselines:\n",
    "    print(model, pearson_correlation(sts_test_stop, baselines[model]))"
   ]
  },
  {
   "cell_type": "markdown",
   "metadata": {},
   "source": [
    "We investigate our 8 models with and without stop words (16 different results total). The results show that TF-IDF bag-of-words document embeddings (without stop words) combined with the cosine similarity performs the best, with a Pearson correlation of 0.7034. "
   ]
  },
  {
   "cell_type": "code",
   "execution_count": 34,
   "metadata": {},
   "outputs": [
    {
     "data": {
      "image/png": "[encoded data removed]",
      "text/plain": [
       "<Figure size 432x288 with 1 Axes>"
      ]
     },
     "metadata": {
      "needs_background": "light"
     },
     "output_type": "display_data"
    }
   ],
   "source": [
    "fig, ax = plt.subplots()\n",
    "\n",
    "# Example data\n",
    "x = list(baselines.keys())\n",
    "x_pos = np.arange(len(x))\n",
    "y = [pearson_correlation(sts_test_stop, baselines[i]) for i in x]\n",
    "\n",
    "ax.barh(x_pos, y, align='center')\n",
    "ax.set_yticks(x_pos)\n",
    "ax.set_yticklabels(x)\n",
    "ax.invert_yaxis() \n",
    "ax.set_xlabel('Perason Correlation')\n",
    "ax.set_title('Performance of Baseline Models')\n",
    "\n",
    "plt.show()"
   ]
  }
 ],
 "metadata": {
  "kernelspec": {
   "display_name": "Python 3",
   "language": "python",
   "name": "python3"
  },
  "language_info": {
   "codemirror_mode": {
    "name": "ipython",
    "version": 3
   },
   "file_extension": ".py",
   "mimetype": "text/x-python",
   "name": "python",
   "nbconvert_exporter": "python",
   "pygments_lexer": "ipython3",
   "version": "3.6.8"
  }
 },
 "nbformat": 4,
 "nbformat_minor": 2
}
