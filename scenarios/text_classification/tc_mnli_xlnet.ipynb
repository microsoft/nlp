{
 "cells": [
  {
   "cell_type": "markdown",
   "metadata": {},
   "source": [
    "*Copyright (c) Microsoft Corporation. All rights reserved.*\n",
    "\n",
    "*Licensed under the MIT License.*\n",
    "\n",
    "# Text Classification of MultiNLI Sentences using XLNet"
   ]
  },
  {
   "cell_type": "code",
   "execution_count": 12,
   "metadata": {},
   "outputs": [
    {
     "name": "stdout",
     "output_type": "stream",
     "text": [
      "The autoreload extension is already loaded. To reload it, use:\n",
      "  %reload_ext autoreload\n"
     ]
    }
   ],
   "source": [
    "%load_ext autoreload\n",
    "%autoreload 2"
   ]
  },
  {
   "cell_type": "code",
   "execution_count": 13,
   "metadata": {},
   "outputs": [],
   "source": [
    "import sys\n",
    "sys.path.append(\"../../\")\n",
    "import os\n",
    "import numpy as np\n",
    "import pandas as pd\n",
    "import random\n",
    "import torch\n",
    "import torch.nn as nn\n",
    "from sklearn.metrics import classification_report\n",
    "from sklearn.preprocessing import LabelEncoder\n",
    "from sklearn.model_selection import train_test_split\n",
    "\n",
    "from utils_nlp.dataset.multinli import load_pandas_df\n",
    "from utils_nlp.eval.classification import eval_classification\n",
    "from utils_nlp.common.timer import Timer\n",
    "from utils_nlp.models.xlnet.common import Language, Tokenizer\n",
    "from utils_nlp.models.xlnet.sequence_classification import XLNetSequenceClassifier\n",
    "from utils_nlp.models.xlnet.utils import generate_confusion_matrix"
   ]
  },
  {
   "cell_type": "markdown",
   "metadata": {},
   "source": [
    "## Introduction\n",
    "In this notebook, we fine-tune and evaluate a pretrained [XLNet](https://arxiv.org/abs/1906.08237) model on a subset of the [MultiNLI](https://www.nyu.edu/projects/bowman/multinli/) dataset.\n",
    "\n",
    "We use a [sequence classifier](../../utils_nlp/xlnet/sequence_classification.py) that wraps [Hugging Face's PyTorch implementation](https://github.com/huggingface/pytorch-transformers) of CMU and Google's [XLNet](https://github.com/zihangdai/xlnet)."
   ]
  },
  {
   "cell_type": "code",
   "execution_count": 46,
   "metadata": {},
   "outputs": [],
   "source": [
    "DATA_FOLDER = \"../../../temp\"\n",
    "XLNET_CACHE_DIR=\"../../../temp\"\n",
    "LANGUAGE = Language.ENGLISHCASED\n",
    "MAX_SEQ_LENGTH = 128\n",
    "BATCH_SIZE = 8\n",
    "NUM_GPUS = 1\n",
    "NUM_EPOCHS = 3\n",
    "TRAIN_SIZE = 0.6\n",
    "LABEL_COL = \"genre\"\n",
    "TEXT_COL = \"sentence1\"\n",
    "WEIGHT_DECAY = 0.0\n",
    "WARMUP_STEPS = 0\n",
    "\n",
    "### Hyperparamters to tune\n",
    "MAX_SEQ_LENGTH = 128\n",
    "LEARNING_RATE = 5e-5\n",
    "ADAM_EPSILON = 1e-8\n",
    "\n",
    "DEBUG = False"
   ]
  },
  {
   "cell_type": "markdown",
   "metadata": {},
   "source": [
    "## Read Dataset\n",
    "We start by loading a subset of the data. The following function also downloads and extracts the files, if they don't exist in the data folder.\n",
    "\n",
    "The MultiNLI dataset is mainly used for natural language inference (NLI) tasks, where the inputs are sentence pairs and the labels are entailment indicators. The sentence pairs are also classified into *genres* that allow for more coverage and better evaluation of NLI models.\n",
    "\n",
    "For our classification task, we use the first sentence only as the text input, and the corresponding genre as the label. We select the examples corresponding to one of the entailment labels (*neutral* in this case) to avoid duplicate rows, as the sentences are not unique, whereas the sentence pairs are."
   ]
  },
  {
   "cell_type": "code",
   "execution_count": 27,
   "metadata": {},
   "outputs": [],
   "source": [
    "df = load_pandas_df(DATA_FOLDER, \"train\")\n",
    "df = df[df[\"gold_label\"]==\"neutral\"]  # get unique sentences\n",
    "\n",
    "if DEBUG:\n",
    "    inds = random.sample(range(len(df.index)), 1000)\n",
    "    df = df.iloc[inds]"
   ]
  },
  {
   "cell_type": "code",
   "execution_count": 28,
   "metadata": {},
   "outputs": [
    {
     "data": {
      "text/html": [
       "<div>\n",
       "<style scoped>\n",
       "    .dataframe tbody tr th:only-of-type {\n",
       "        vertical-align: middle;\n",
       "    }\n",
       "\n",
       "    .dataframe tbody tr th {\n",
       "        vertical-align: top;\n",
       "    }\n",
       "\n",
       "    .dataframe thead th {\n",
       "        text-align: right;\n",
       "    }\n",
       "</style>\n",
       "<table border=\"1\" class=\"dataframe\">\n",
       "  <thead>\n",
       "    <tr style=\"text-align: right;\">\n",
       "      <th></th>\n",
       "      <th>annotator_labels</th>\n",
       "      <th>genre</th>\n",
       "      <th>gold_label</th>\n",
       "      <th>pairID</th>\n",
       "      <th>promptID</th>\n",
       "      <th>sentence1</th>\n",
       "      <th>sentence1_binary_parse</th>\n",
       "      <th>sentence1_parse</th>\n",
       "      <th>sentence2</th>\n",
       "      <th>sentence2_binary_parse</th>\n",
       "      <th>sentence2_parse</th>\n",
       "    </tr>\n",
       "  </thead>\n",
       "  <tbody>\n",
       "    <tr>\n",
       "      <th>26309</th>\n",
       "      <td>[neutral]</td>\n",
       "      <td>government</td>\n",
       "      <td>neutral</td>\n",
       "      <td>12356n</td>\n",
       "      <td>12356</td>\n",
       "      <td>Without ongoing strong support, both in spirit...</td>\n",
       "      <td>( ( Without ( ( ( ( ( ongoing ( strong support...</td>\n",
       "      <td>(ROOT (S (PP (IN Without) (NP (NP (NP (JJ ongo...</td>\n",
       "      <td>Without strong support from the top level, suc...</td>\n",
       "      <td>( ( Without ( ( strong support ) ( from ( the ...</td>\n",
       "      <td>(ROOT (S (PP (IN Without) (NP (NP (JJ strong) ...</td>\n",
       "    </tr>\n",
       "    <tr>\n",
       "      <th>359212</th>\n",
       "      <td>[neutral]</td>\n",
       "      <td>fiction</td>\n",
       "      <td>neutral</td>\n",
       "      <td>110677n</td>\n",
       "      <td>110677</td>\n",
       "      <td>But what earthly interest could he have in my ...</td>\n",
       "      <td>( But ( ( ( what earthly ) interest ) ( ( ( co...</td>\n",
       "      <td>(ROOT (SBARQ (CC But) (WHNP (WDT what) (JJ ear...</td>\n",
       "      <td>It seems so unrelated to what he should be inv...</td>\n",
       "      <td>( It ( ( seems ( so ( unrelated ( to ( what ( ...</td>\n",
       "      <td>(ROOT (S (NP (PRP It)) (VP (VBZ seems) (ADJP (...</td>\n",
       "    </tr>\n",
       "    <tr>\n",
       "      <th>215209</th>\n",
       "      <td>[neutral]</td>\n",
       "      <td>slate</td>\n",
       "      <td>neutral</td>\n",
       "      <td>26042n</td>\n",
       "      <td>26042</td>\n",
       "      <td>The appeals court rapped the agency for its sc...</td>\n",
       "      <td>( ( The ( appeals court ) ) ( ( ( ( rapped ( (...</td>\n",
       "      <td>(ROOT (S (NP (DT The) (NNS appeals) (NN court)...</td>\n",
       "      <td>The agency in question was arresting small chi...</td>\n",
       "      <td>( ( ( The agency ) ( in question ) ) ( ( was (...</td>\n",
       "      <td>(ROOT (S (NP (NP (DT The) (NN agency)) (PP (IN...</td>\n",
       "    </tr>\n",
       "    <tr>\n",
       "      <th>368595</th>\n",
       "      <td>[neutral]</td>\n",
       "      <td>travel</td>\n",
       "      <td>neutral</td>\n",
       "      <td>112566n</td>\n",
       "      <td>112566</td>\n",
       "      <td>Nowhere in Rome is the spectacle of Italian st...</td>\n",
       "      <td>( ( Nowhere ( in Rome ) ) ( ( ( ( is ( ( the s...</td>\n",
       "      <td>(ROOT (SINV (ADVP (RB Nowhere) (PP (IN in) (NP...</td>\n",
       "      <td>Roman genius is the entire reason that Rome ha...</td>\n",
       "      <td>( ( Roman genius ) ( ( ( is ( the ( entire rea...</td>\n",
       "      <td>(ROOT (S (NP (NNP Roman) (NNP genius)) (VP (VB...</td>\n",
       "    </tr>\n",
       "    <tr>\n",
       "      <th>172626</th>\n",
       "      <td>[neutral]</td>\n",
       "      <td>fiction</td>\n",
       "      <td>neutral</td>\n",
       "      <td>4620n</td>\n",
       "      <td>4620</td>\n",
       "      <td>What is it, Poirot? I inquired.</td>\n",
       "      <td>( ( What ( ( is ( ( it , ) Poirot ) ) ? ) ) ( ...</td>\n",
       "      <td>(ROOT (S (SBARQ (WHNP (WP What)) (SQ (VBZ is) ...</td>\n",
       "      <td>Poirot was the only one who knew what it was.</td>\n",
       "      <td>( Poirot ( ( was ( ( the ( only one ) ) ( who ...</td>\n",
       "      <td>(ROOT (S (NP (NNP Poirot)) (VP (VBD was) (NP (...</td>\n",
       "    </tr>\n",
       "  </tbody>\n",
       "</table>\n",
       "</div>"
      ],
      "text/plain": [
       "       annotator_labels       genre gold_label   pairID  promptID  \\\n",
       "26309         [neutral]  government    neutral   12356n     12356   \n",
       "359212        [neutral]     fiction    neutral  110677n    110677   \n",
       "215209        [neutral]       slate    neutral   26042n     26042   \n",
       "368595        [neutral]      travel    neutral  112566n    112566   \n",
       "172626        [neutral]     fiction    neutral    4620n      4620   \n",
       "\n",
       "                                                sentence1  \\\n",
       "26309   Without ongoing strong support, both in spirit...   \n",
       "359212  But what earthly interest could he have in my ...   \n",
       "215209  The appeals court rapped the agency for its sc...   \n",
       "368595  Nowhere in Rome is the spectacle of Italian st...   \n",
       "172626                   What is it, Poirot? I inquired.    \n",
       "\n",
       "                                   sentence1_binary_parse  \\\n",
       "26309   ( ( Without ( ( ( ( ( ongoing ( strong support...   \n",
       "359212  ( But ( ( ( what earthly ) interest ) ( ( ( co...   \n",
       "215209  ( ( The ( appeals court ) ) ( ( ( ( rapped ( (...   \n",
       "368595  ( ( Nowhere ( in Rome ) ) ( ( ( ( is ( ( the s...   \n",
       "172626  ( ( What ( ( is ( ( it , ) Poirot ) ) ? ) ) ( ...   \n",
       "\n",
       "                                          sentence1_parse  \\\n",
       "26309   (ROOT (S (PP (IN Without) (NP (NP (NP (JJ ongo...   \n",
       "359212  (ROOT (SBARQ (CC But) (WHNP (WDT what) (JJ ear...   \n",
       "215209  (ROOT (S (NP (DT The) (NNS appeals) (NN court)...   \n",
       "368595  (ROOT (SINV (ADVP (RB Nowhere) (PP (IN in) (NP...   \n",
       "172626  (ROOT (S (SBARQ (WHNP (WP What)) (SQ (VBZ is) ...   \n",
       "\n",
       "                                                sentence2  \\\n",
       "26309   Without strong support from the top level, suc...   \n",
       "359212  It seems so unrelated to what he should be inv...   \n",
       "215209  The agency in question was arresting small chi...   \n",
       "368595  Roman genius is the entire reason that Rome ha...   \n",
       "172626      Poirot was the only one who knew what it was.   \n",
       "\n",
       "                                   sentence2_binary_parse  \\\n",
       "26309   ( ( Without ( ( strong support ) ( from ( the ...   \n",
       "359212  ( It ( ( seems ( so ( unrelated ( to ( what ( ...   \n",
       "215209  ( ( ( The agency ) ( in question ) ) ( ( was (...   \n",
       "368595  ( ( Roman genius ) ( ( ( is ( the ( entire rea...   \n",
       "172626  ( Poirot ( ( was ( ( the ( only one ) ) ( who ...   \n",
       "\n",
       "                                          sentence2_parse  \n",
       "26309   (ROOT (S (PP (IN Without) (NP (NP (JJ strong) ...  \n",
       "359212  (ROOT (S (NP (PRP It)) (VP (VBZ seems) (ADJP (...  \n",
       "215209  (ROOT (S (NP (NP (DT The) (NN agency)) (PP (IN...  \n",
       "368595  (ROOT (S (NP (NNP Roman) (NNP genius)) (VP (VB...  \n",
       "172626  (ROOT (S (NP (NNP Poirot)) (VP (VBD was) (NP (...  "
      ]
     },
     "execution_count": 28,
     "metadata": {},
     "output_type": "execute_result"
    }
   ],
   "source": [
    "df.head()"
   ]
  },
  {
   "cell_type": "markdown",
   "metadata": {},
   "source": [
    "The examples in the dataset are grouped into 5 genres:"
   ]
  },
  {
   "cell_type": "code",
   "execution_count": 29,
   "metadata": {},
   "outputs": [
    {
     "data": {
      "text/plain": [
       "telephone     219\n",
       "fiction       217\n",
       "travel        197\n",
       "slate         188\n",
       "government    179\n",
       "Name: genre, dtype: int64"
      ]
     },
     "execution_count": 29,
     "metadata": {},
     "output_type": "execute_result"
    }
   ],
   "source": [
    "df[LABEL_COL].value_counts()"
   ]
  },
  {
   "cell_type": "markdown",
   "metadata": {},
   "source": [
    "We split the data for training and testing, and encode the class labels:"
   ]
  },
  {
   "cell_type": "code",
   "execution_count": 30,
   "metadata": {},
   "outputs": [
    {
     "name": "stderr",
     "output_type": "stream",
     "text": [
      "/data/anaconda/envs/nlp_gpu/lib/python3.6/site-packages/sklearn/model_selection/_split.py:2179: FutureWarning: From version 0.21, test_size will always complement train_size unless both are specified.\n",
      "  FutureWarning)\n"
     ]
    }
   ],
   "source": [
    "# split\n",
    "df_train, df_test = train_test_split(df, train_size = TRAIN_SIZE)\n",
    "\n",
    "# encode labels\n",
    "label_encoder = LabelEncoder()\n",
    "labels_train = label_encoder.fit_transform(df_train[LABEL_COL])\n",
    "labels_test = label_encoder.transform(df_test[LABEL_COL])\n",
    "label_list = label_encoder.classes_\n",
    "\n",
    "num_labels = len(np.unique(labels_train))"
   ]
  },
  {
   "cell_type": "code",
   "execution_count": 31,
   "metadata": {},
   "outputs": [
    {
     "name": "stdout",
     "output_type": "stream",
     "text": [
      "Number of unique labels: 5\n",
      "Number of training examples: 600\n",
      "Number of testing examples: 400\n"
     ]
    }
   ],
   "source": [
    "print(\"Number of unique labels: {}\".format(num_labels))\n",
    "print(\"Number of training examples: {}\".format(df_train.shape[0]))\n",
    "print(\"Number of testing examples: {}\".format(df_test.shape[0]))"
   ]
  },
  {
   "cell_type": "markdown",
   "metadata": {},
   "source": [
    "## Tokenize and Preprocess\n",
    "Before training, we tokenize the text documents and convert them to lists of tokens. The following steps instantiate a XLNet tokenizer given the language, and tokenize the text of the training and testing sets.\n",
    "\n",
    "We perform the following preprocessing steps in the cell below:\n",
    "- Convert the tokens into token indices corresponding to the XLNet-base tokenizer's vocabulary\n",
    "- Add the special tokens [CLS] and [SEP] to mark the end of a sentence\n",
    "- Pad or truncate the token lists to the specified max length\n",
    "- Return id lists that indicate which word the tokens map to\n",
    "- Return mask lists that indicate paddings' positions\n",
    "- Return segment type id lists that indicates which segment each the tokens belongs to\n",
    "\n",
    "*See the pytorch-transformer [implementation](https://github.com/huggingface/pytorch-transformers/blob/master/examples/utils_glue.py) for more information on XLNet's input format.*"
   ]
  },
  {
   "cell_type": "code",
   "execution_count": 32,
   "metadata": {},
   "outputs": [],
   "source": [
    "tokenizer = Tokenizer(LANGUAGE, cache_dir=XLNET_CACHE_DIR)\n",
    "\n",
    "train_input_ids, train_input_mask, train_segment_ids = tokenizer.preprocess_classification_tokens(list(df_train[TEXT_COL]), MAX_SEQ_LENGTH)\n",
    "test_input_ids, test_input_mask, test_segment_ids = tokenizer.preprocess_classification_tokens(list(df_test[TEXT_COL]), MAX_SEQ_LENGTH)"
   ]
  },
  {
   "cell_type": "markdown",
   "metadata": {},
   "source": [
    "## Create Model\n",
    "Next, we create a sequence classifier that loads a pre-trained XLNet model, given the language and number of labels."
   ]
  },
  {
   "cell_type": "code",
   "execution_count": 33,
   "metadata": {},
   "outputs": [],
   "source": [
    "classifier = XLNetSequenceClassifier(\n",
    "    language=LANGUAGE,\n",
    "    num_labels=num_labels,\n",
    "    cache_dir=XLNET_CACHE_DIR,\n",
    "    num_gpus=NUM_GPUS,        \n",
    "    num_epochs=NUM_EPOCHS,\n",
    "    batch_size=BATCH_SIZE\n",
    ")"
   ]
  },
  {
   "cell_type": "markdown",
   "metadata": {},
   "source": [
    "## Train\n",
    "We train the classifier using the training examples. This involves fine-tuning the XLNet Transformer and learning a linear classification layer on top of that:"
   ]
  },
  {
   "cell_type": "code",
   "execution_count": 34,
   "metadata": {},
   "outputs": [
    {
     "name": "stderr",
     "output_type": "stream",
     "text": [
      "Iteration:   1%|▏         | 1/75 [00:01<01:38,  1.33s/it]"
     ]
    },
    {
     "name": "stdout",
     "output_type": "stream",
     "text": [
      "epoch:1/3; batch:1->8/75; average training loss:1.674184\n"
     ]
    },
    {
     "name": "stderr",
     "output_type": "stream",
     "text": [
      "Iteration:  12%|█▏        | 9/75 [00:12<01:32,  1.40s/it]"
     ]
    },
    {
     "name": "stdout",
     "output_type": "stream",
     "text": [
      "epoch:1/3; batch:9->16/75; average training loss:1.685018\n"
     ]
    },
    {
     "name": "stderr",
     "output_type": "stream",
     "text": [
      "Iteration:  23%|██▎       | 17/75 [00:24<01:19,  1.37s/it]"
     ]
    },
    {
     "name": "stdout",
     "output_type": "stream",
     "text": [
      "epoch:1/3; batch:17->24/75; average training loss:1.627392\n"
     ]
    },
    {
     "name": "stderr",
     "output_type": "stream",
     "text": [
      "Iteration:  33%|███▎      | 25/75 [00:35<01:13,  1.47s/it]"
     ]
    },
    {
     "name": "stdout",
     "output_type": "stream",
     "text": [
      "epoch:1/3; batch:25->32/75; average training loss:1.547611\n"
     ]
    },
    {
     "name": "stderr",
     "output_type": "stream",
     "text": [
      "Iteration:  44%|████▍     | 33/75 [00:47<01:03,  1.52s/it]"
     ]
    },
    {
     "name": "stdout",
     "output_type": "stream",
     "text": [
      "epoch:1/3; batch:33->40/75; average training loss:1.466836\n"
     ]
    },
    {
     "name": "stderr",
     "output_type": "stream",
     "text": [
      "Iteration:  55%|█████▍    | 41/75 [00:59<00:47,  1.41s/it]"
     ]
    },
    {
     "name": "stdout",
     "output_type": "stream",
     "text": [
      "epoch:1/3; batch:41->48/75; average training loss:1.471236\n"
     ]
    },
    {
     "name": "stderr",
     "output_type": "stream",
     "text": [
      "Iteration:  65%|██████▌   | 49/75 [01:10<00:36,  1.40s/it]"
     ]
    },
    {
     "name": "stdout",
     "output_type": "stream",
     "text": [
      "epoch:1/3; batch:49->56/75; average training loss:1.393449\n"
     ]
    },
    {
     "name": "stderr",
     "output_type": "stream",
     "text": [
      "Iteration:  76%|███████▌  | 57/75 [01:21<00:25,  1.40s/it]"
     ]
    },
    {
     "name": "stdout",
     "output_type": "stream",
     "text": [
      "epoch:1/3; batch:57->64/75; average training loss:1.372367\n"
     ]
    },
    {
     "name": "stderr",
     "output_type": "stream",
     "text": [
      "Iteration:  87%|████████▋ | 65/75 [01:33<00:15,  1.55s/it]"
     ]
    },
    {
     "name": "stdout",
     "output_type": "stream",
     "text": [
      "epoch:1/3; batch:65->72/75; average training loss:1.366448\n"
     ]
    },
    {
     "name": "stderr",
     "output_type": "stream",
     "text": [
      "Iteration:  97%|█████████▋| 73/75 [01:45<00:02,  1.46s/it]"
     ]
    },
    {
     "name": "stdout",
     "output_type": "stream",
     "text": [
      "epoch:1/3; batch:73->75/75; average training loss:1.351793\n"
     ]
    },
    {
     "name": "stderr",
     "output_type": "stream",
     "text": [
      "Iteration: 100%|██████████| 75/75 [01:48<00:00,  1.45s/it]\n",
      "Iteration:   1%|▏         | 1/75 [00:01<01:41,  1.38s/it]"
     ]
    },
    {
     "name": "stdout",
     "output_type": "stream",
     "text": [
      "epoch:2/3; batch:1->8/75; average training loss:0.718766\n"
     ]
    },
    {
     "name": "stderr",
     "output_type": "stream",
     "text": [
      "Iteration:  12%|█▏        | 9/75 [00:12<01:35,  1.45s/it]"
     ]
    },
    {
     "name": "stdout",
     "output_type": "stream",
     "text": [
      "epoch:2/3; batch:9->16/75; average training loss:1.084781\n"
     ]
    },
    {
     "name": "stderr",
     "output_type": "stream",
     "text": [
      "Iteration:  23%|██▎       | 17/75 [00:24<01:22,  1.43s/it]"
     ]
    },
    {
     "name": "stdout",
     "output_type": "stream",
     "text": [
      "epoch:2/3; batch:17->24/75; average training loss:1.023039\n"
     ]
    },
    {
     "name": "stderr",
     "output_type": "stream",
     "text": [
      "Iteration:  33%|███▎      | 25/75 [00:36<01:15,  1.51s/it]"
     ]
    },
    {
     "name": "stdout",
     "output_type": "stream",
     "text": [
      "epoch:2/3; batch:25->32/75; average training loss:0.985935\n"
     ]
    },
    {
     "name": "stderr",
     "output_type": "stream",
     "text": [
      "Iteration:  44%|████▍     | 33/75 [00:47<00:57,  1.38s/it]"
     ]
    },
    {
     "name": "stdout",
     "output_type": "stream",
     "text": [
      "epoch:2/3; batch:33->40/75; average training loss:1.031463\n"
     ]
    },
    {
     "name": "stderr",
     "output_type": "stream",
     "text": [
      "Iteration:  55%|█████▍    | 41/75 [00:58<00:49,  1.46s/it]"
     ]
    },
    {
     "name": "stdout",
     "output_type": "stream",
     "text": [
      "epoch:2/3; batch:41->48/75; average training loss:1.022995\n"
     ]
    },
    {
     "name": "stderr",
     "output_type": "stream",
     "text": [
      "Iteration:  65%|██████▌   | 49/75 [01:10<00:37,  1.45s/it]"
     ]
    },
    {
     "name": "stdout",
     "output_type": "stream",
     "text": [
      "epoch:2/3; batch:49->56/75; average training loss:1.022688\n"
     ]
    },
    {
     "name": "stderr",
     "output_type": "stream",
     "text": [
      "Iteration:  76%|███████▌  | 57/75 [01:21<00:24,  1.37s/it]"
     ]
    },
    {
     "name": "stdout",
     "output_type": "stream",
     "text": [
      "epoch:2/3; batch:57->64/75; average training loss:1.010013\n"
     ]
    },
    {
     "name": "stderr",
     "output_type": "stream",
     "text": [
      "Iteration:  87%|████████▋ | 65/75 [01:32<00:14,  1.50s/it]"
     ]
    },
    {
     "name": "stdout",
     "output_type": "stream",
     "text": [
      "epoch:2/3; batch:65->72/75; average training loss:1.003065\n"
     ]
    },
    {
     "name": "stderr",
     "output_type": "stream",
     "text": [
      "Iteration:  97%|█████████▋| 73/75 [01:44<00:02,  1.47s/it]"
     ]
    },
    {
     "name": "stdout",
     "output_type": "stream",
     "text": [
      "epoch:2/3; batch:73->75/75; average training loss:0.998398\n"
     ]
    },
    {
     "name": "stderr",
     "output_type": "stream",
     "text": [
      "Iteration: 100%|██████████| 75/75 [01:47<00:00,  1.48s/it]\n",
      "Iteration:   1%|▏         | 1/75 [00:01<02:01,  1.64s/it]"
     ]
    },
    {
     "name": "stdout",
     "output_type": "stream",
     "text": [
      "epoch:3/3; batch:1->8/75; average training loss:0.639277\n"
     ]
    },
    {
     "name": "stderr",
     "output_type": "stream",
     "text": [
      "Iteration:  12%|█▏        | 9/75 [00:13<01:37,  1.47s/it]"
     ]
    },
    {
     "name": "stdout",
     "output_type": "stream",
     "text": [
      "epoch:3/3; batch:9->16/75; average training loss:0.844053\n"
     ]
    },
    {
     "name": "stderr",
     "output_type": "stream",
     "text": [
      "Iteration:  23%|██▎       | 17/75 [00:25<01:25,  1.47s/it]"
     ]
    },
    {
     "name": "stdout",
     "output_type": "stream",
     "text": [
      "epoch:3/3; batch:17->24/75; average training loss:0.848309\n"
     ]
    },
    {
     "name": "stderr",
     "output_type": "stream",
     "text": [
      "Iteration:  33%|███▎      | 25/75 [00:37<01:15,  1.51s/it]"
     ]
    },
    {
     "name": "stdout",
     "output_type": "stream",
     "text": [
      "epoch:3/3; batch:25->32/75; average training loss:0.844607\n"
     ]
    },
    {
     "name": "stderr",
     "output_type": "stream",
     "text": [
      "Iteration:  44%|████▍     | 33/75 [00:48<00:58,  1.39s/it]"
     ]
    },
    {
     "name": "stdout",
     "output_type": "stream",
     "text": [
      "epoch:3/3; batch:33->40/75; average training loss:0.820890\n"
     ]
    },
    {
     "name": "stderr",
     "output_type": "stream",
     "text": [
      "Iteration:  55%|█████▍    | 41/75 [01:00<00:51,  1.52s/it]"
     ]
    },
    {
     "name": "stdout",
     "output_type": "stream",
     "text": [
      "epoch:3/3; batch:41->48/75; average training loss:0.799796\n"
     ]
    },
    {
     "name": "stderr",
     "output_type": "stream",
     "text": [
      "Iteration:  65%|██████▌   | 49/75 [01:12<00:37,  1.45s/it]"
     ]
    },
    {
     "name": "stdout",
     "output_type": "stream",
     "text": [
      "epoch:3/3; batch:49->56/75; average training loss:0.792019\n"
     ]
    },
    {
     "name": "stderr",
     "output_type": "stream",
     "text": [
      "Iteration:  76%|███████▌  | 57/75 [01:24<00:26,  1.45s/it]"
     ]
    },
    {
     "name": "stdout",
     "output_type": "stream",
     "text": [
      "epoch:3/3; batch:57->64/75; average training loss:0.778164\n"
     ]
    },
    {
     "name": "stderr",
     "output_type": "stream",
     "text": [
      "Iteration:  87%|████████▋ | 65/75 [01:35<00:15,  1.50s/it]"
     ]
    },
    {
     "name": "stdout",
     "output_type": "stream",
     "text": [
      "epoch:3/3; batch:65->72/75; average training loss:0.764161\n"
     ]
    },
    {
     "name": "stderr",
     "output_type": "stream",
     "text": [
      "Iteration:  97%|█████████▋| 73/75 [01:47<00:03,  1.51s/it]"
     ]
    },
    {
     "name": "stdout",
     "output_type": "stream",
     "text": [
      "epoch:3/3; batch:73->75/75; average training loss:0.745745\n"
     ]
    },
    {
     "name": "stderr",
     "output_type": "stream",
     "text": [
      "Iteration: 100%|██████████| 75/75 [01:50<00:00,  1.45s/it]"
     ]
    },
    {
     "name": "stdout",
     "output_type": "stream",
     "text": [
      "[Training time: 0.091 hrs]\n"
     ]
    },
    {
     "name": "stderr",
     "output_type": "stream",
     "text": [
      "\n"
     ]
    }
   ],
   "source": [
    "with Timer() as t:\n",
    "    classifier.fit(\n",
    "        token_ids=train_input_ids,\n",
    "        input_mask=train_input_mask,\n",
    "        token_type_ids=train_segment_ids,\n",
    "        labels=labels_train,  \n",
    "        verbose=True,\n",
    "    )    \n",
    "print(\"[Training time: {:.3f} hrs]\".format(t.interval / 3600))"
   ]
  },
  {
   "cell_type": "markdown",
   "metadata": {},
   "source": [
    "## Score\n",
    "We score the test set using the trained classifier:"
   ]
  },
  {
   "cell_type": "code",
   "execution_count": 35,
   "metadata": {},
   "outputs": [
    {
     "name": "stderr",
     "output_type": "stream",
     "text": [
      "100%|██████████| 400/400 [00:17<00:00, 23.66it/s]\n"
     ]
    }
   ],
   "source": [
    "preds = classifier.predict(\n",
    "    token_ids=test_input_ids,\n",
    "    input_mask=test_input_mask,\n",
    "    token_type_ids=test_segment_ids,\n",
    "    num_gpus=NUM_GPUS,\n",
    "    batch_size=BATCH_SIZE,\n",
    "    probabilities=False\n",
    ")"
   ]
  },
  {
   "cell_type": "markdown",
   "metadata": {},
   "source": [
    "## Evaluate Results\n",
    "Finally, we compute the accuracy, precision, recall, and F1 metrics of the evaluation on the test set."
   ]
  },
  {
   "cell_type": "code",
   "execution_count": 36,
   "metadata": {},
   "outputs": [
    {
     "name": "stdout",
     "output_type": "stream",
     "text": [
      "              precision    recall  f1-score   support\n",
      "\n",
      "     fiction       0.75      0.69      0.72        95\n",
      "  government       0.46      0.17      0.24        72\n",
      "       slate       0.29      0.41      0.34        68\n",
      "   telephone       0.97      0.98      0.97        95\n",
      "      travel       0.44      0.59      0.50        70\n",
      "\n",
      "   micro avg       0.60      0.60      0.60       400\n",
      "   macro avg       0.58      0.57      0.56       400\n",
      "weighted avg       0.62      0.60      0.59       400\n",
      "\n"
     ]
    }
   ],
   "source": [
    "print(classification_report(labels_test, preds, target_names=label_encoder.classes_))"
   ]
  },
  {
   "cell_type": "markdown",
   "metadata": {},
   "source": [
    "### Generate Confusion Matrix using Seaborn"
   ]
  },
  {
   "cell_type": "code",
   "execution_count": 45,
   "metadata": {},
   "outputs": [
    {
     "data": {
      "image/png": "[encoded data removed]",
      "text/plain": [
       "<Figure size 576x360 with 2 Axes>"
      ]
     },
     "metadata": {},
     "output_type": "display_data"
    }
   ],
   "source": [
    "generate_confusion_matrix(labels_test,preds,label_encoder.classes_)"
   ]
  },
  {
   "cell_type": "code",
   "execution_count": null,
   "metadata": {},
   "outputs": [],
   "source": []
  },
  {
   "cell_type": "code",
   "execution_count": null,
   "metadata": {},
   "outputs": [],
   "source": []
  }
 ],
 "metadata": {
  "kernelspec": {
   "display_name": "Python (nlp_gpu_dsvm)",
   "language": "python",
   "name": "nlp_gpu"
  },
  "language_info": {
   "codemirror_mode": {
    "name": "ipython",
    "version": 3
   },
   "file_extension": ".py",
   "mimetype": "text/x-python",
   "name": "python",
   "nbconvert_exporter": "python",
   "pygments_lexer": "ipython3",
   "version": "3.6.8"
  }
 },
 "nbformat": 4,
 "nbformat_minor": 2
}
